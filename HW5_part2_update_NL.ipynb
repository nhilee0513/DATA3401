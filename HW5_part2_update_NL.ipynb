{
 "cells": [
  {
   "cell_type": "markdown",
   "metadata": {},
   "source": [
    "## Homework 5 _Nhi Le\n",
    "\n",
    "### part1  data\n",
    "\n",
    "\n",
    "Produce a dataset for this linear model:  $$ \\mathbf{y}  =  \\beta_0 + \\beta_1 \\mathbf x + \\mathbf \\epsilon $$, where $\\mathbf{y, x, \\epsilon}$ are each 15x1 vectors.  \n",
    "\n",
    "- Choose the values in $x$ from a real dataset.  You don't have to use the whole dataset.  Select any 15 unique values that are spread out approximately evenly.  Don't make it hard.  (Don't pick something like this: 1.2,1.5,1.3, -9999999.8383, ..., 1.2,1.2, 1.11, ...., 314159.26535.)  \n",
    "- Document the source of your data and what they represent (include the measurement units like days, cubic inches, dollars, etc.).  Also document any selection decisions made by you.  Don't make it hard.  \n",
    "- Select values for the intercept $\\beta_0$ and the slope $\\beta_1$.  Again, don't make it hard. Pick something and change it later if you want. \n",
    "- Use a random number generator like **scipy.stats.YYYY.rvs()** to get the values for $\\mathbf \\epsilon$.  Use any symmetric distribution with mean equal to  0 as **YYYY**.  That could be $unif(-a,a)$ or $(.5 - beta(a,a))$ or $N(0, \\sigma = a)$.  Whatever.  Choose parameter value $a$ to make the standard deviation of the $\\epsilon$'s small compared to the range of the $x$'s.  It's easier to adjust $a$ after you look at a scatterplot.  \n",
    "- Use the model formula to compute $\\mathbf y$. \n",
    "- Make an array object called **dat1** with columns $ \\mathbf x$ and $\\mathbf y$.  \n",
    "- Produce a scatter plot of $ \\mathbf x$ and $\\mathbf y$.  At this point you might want to change $a$ to adjust $\\sigma_\\epsilon$. We want the **dat1** scatterplot to be fairly tight, like a cigar, not like a football. \n",
    "\n",
    "Repeat the process to produce **dat2**.  Use the same values for $\\mathbf x, \\beta_0, \\beta_1$.  Use the same distribution family for $\\mathbf \\epsilon$, but adjust the parameters like $a$ to make $\\sigma_\\epsilon$ larger than for **dat1**.  Look at a scatter plot and adjust as required.  \n",
    "\n",
    "Repeat the process to produce **dat3**.  Use the same values for $\\mathbf x, \\beta_0, \\beta_1$.  Use the same distribution family for $\\mathbf \\epsilon$, but adjust the parameters to make $\\sigma_\\epsilon$ larger than for **dat2**.  Look at a scatter plot and adjust as required.  It's ok if this one looks like a football or an ellipse.  \n",
    "\n",
    "Write **dat1, dat2, dat3** to your machine. \n",
    "Name your files like this:  *dat1_JPK.csv,  dat2_JPK.csv,  dat3_JPK.csv* (use your initials). \n",
    "\n",
    "The last step is to drag your files from your machine to the shared directory **.../ourcars/ourdata/** on OneDrive.  \n",
    "The link to this shared folder is on Blackboard.  \n",
    "\n"
   ]
  },
  {
   "cell_type": "code",
   "execution_count": 1,
   "metadata": {},
   "outputs": [],
   "source": [
    "#load package\n",
    "import random\n",
    "import matplotlib.pyplot as plt\n",
    "import pandas as pd\n",
    "from scipy.stats import norm\n",
    "import re"
   ]
  },
  {
   "cell_type": "code",
   "execution_count": 2,
   "metadata": {},
   "outputs": [
    {
     "data": {
      "text/plain": [
       "['World,OWID_WRL,\"Dec 31, 2019\",0,27',\n",
       " 'World,OWID_WRL,\"Jan 1, 2020\",0,27',\n",
       " 'World,OWID_WRL,\"Jan 2, 2020\",0,27',\n",
       " 'World,OWID_WRL,\"Jan 3, 2020\",0,44',\n",
       " 'World,OWID_WRL,\"Jan 4, 2020\",0,44',\n",
       " 'World,OWID_WRL,\"Jan 5, 2020\",0,59',\n",
       " 'World,OWID_WRL,\"Jan 6, 2020\",0,59',\n",
       " 'World,OWID_WRL,\"Jan 7, 2020\",0,59',\n",
       " 'World,OWID_WRL,\"Jan 8, 2020\",0,59',\n",
       " 'World,OWID_WRL,\"Jan 9, 2020\",0,59',\n",
       " 'World,OWID_WRL,\"Jan 10, 2020\",0,59',\n",
       " 'World,OWID_WRL,\"Jan 11, 2020\",1,59',\n",
       " 'World,OWID_WRL,\"Jan 12, 2020\",1,59',\n",
       " 'World,OWID_WRL,\"Jan 13, 2020\",1,60',\n",
       " 'World,OWID_WRL,\"Jan 14, 2020\",1,60',\n",
       " 'World,OWID_WRL,\"Jan 15, 2020\",2,61',\n",
       " 'World,OWID_WRL,\"Jan 16, 2020\",2,61',\n",
       " 'World,OWID_WRL,\"Jan 17, 2020\",2,66',\n",
       " 'World,OWID_WRL,\"Jan 18, 2020\",2,83',\n",
       " 'World,OWID_WRL,\"Jan 19, 2020\",3,219',\n",
       " 'World,OWID_WRL,\"Jan 20, 2020\",3,239',\n",
       " 'World,OWID_WRL,\"Jan 21, 2020\",6,392',\n",
       " 'World,OWID_WRL,\"Jan 22, 2020\",17,534',\n",
       " 'World,OWID_WRL,\"Jan 23, 2020\",17,631',\n",
       " 'World,OWID_WRL,\"Jan 24, 2020\",26,897',\n",
       " 'World,OWID_WRL,\"Jan 25, 2020\",41,1350',\n",
       " 'World,OWID_WRL,\"Jan 26, 2020\",56,2023',\n",
       " 'World,OWID_WRL,\"Jan 27, 2020\",81,2820',\n",
       " 'World,OWID_WRL,\"Jan 28, 2020\",106,4587',\n",
       " 'World,OWID_WRL,\"Jan 29, 2020\",132,6067',\n",
       " 'World,OWID_WRL,\"Jan 30, 2020\",170,7823',\n",
       " 'World,OWID_WRL,\"Jan 31, 2020\",213,9826',\n",
       " 'World,OWID_WRL,\"Feb 1, 2020\",259,11946',\n",
       " 'World,OWID_WRL,\"Feb 2, 2020\",305,14554',\n",
       " 'World,OWID_WRL,\"Feb 3, 2020\",362,17372',\n",
       " 'World,OWID_WRL,\"Feb 4, 2020\",427,20615',\n",
       " 'World,OWID_WRL,\"Feb 5, 2020\",493,24522',\n",
       " 'World,OWID_WRL,\"Feb 6, 2020\",565,28273',\n",
       " 'World,OWID_WRL,\"Feb 7, 2020\",638,31491',\n",
       " 'World,OWID_WRL,\"Feb 8, 2020\",724,34933',\n",
       " 'World,OWID_WRL,\"Feb 9, 2020\",813,37552',\n",
       " 'World,OWID_WRL,\"Feb 10, 2020\",910,40540',\n",
       " 'World,OWID_WRL,\"Feb 11, 2020\",1018,43105',\n",
       " 'World,OWID_WRL,\"Feb 12, 2020\",1115,45177',\n",
       " 'World,OWID_WRL,\"Feb 13, 2020\",1370,60328',\n",
       " 'World,OWID_WRL,\"Feb 14, 2020\",1383,64543',\n",
       " 'World,OWID_WRL,\"Feb 15, 2020\",1527,67103',\n",
       " 'World,OWID_WRL,\"Feb 16, 2020\",1669,69265',\n",
       " 'World,OWID_WRL,\"Feb 17, 2020\",1775,71332',\n",
       " 'World,OWID_WRL,\"Feb 18, 2020\",1873,73327',\n",
       " 'World,OWID_WRL,\"Feb 19, 2020\",2012,75191',\n",
       " 'World,OWID_WRL,\"Feb 20, 2020\",2128,75723',\n",
       " 'World,OWID_WRL,\"Feb 21, 2020\",2247,76719',\n",
       " 'World,OWID_WRL,\"Feb 22, 2020\",2359,77804',\n",
       " 'World,OWID_WRL,\"Feb 23, 2020\",2463,78812',\n",
       " 'World,OWID_WRL,\"Feb 24, 2020\",2619,79339',\n",
       " 'World,OWID_WRL,\"Feb 25, 2020\",2698,80132',\n",
       " 'World,OWID_WRL,\"Feb 26, 2020\",2762,80995',\n",
       " 'World,OWID_WRL,\"Feb 27, 2020\",2800,82101',\n",
       " 'World,OWID_WRL,\"Feb 28, 2020\",2857,83365',\n",
       " 'World,OWID_WRL,\"Feb 29, 2020\",2921,85203',\n",
       " 'World,OWID_WRL,\"Mar 1, 2020\",2979,87024',\n",
       " 'World,OWID_WRL,\"Mar 2, 2020\",3046,89068',\n",
       " 'World,OWID_WRL,\"Mar 3, 2020\",3118,90664',\n",
       " 'World,OWID_WRL,\"Mar 4, 2020\",3202,93077',\n",
       " 'World,OWID_WRL,\"Mar 5, 2020\",3282,95316',\n",
       " 'World,OWID_WRL,\"Mar 6, 2020\",3385,98172',\n",
       " 'World,OWID_WRL,\"Mar 7, 2020\",3488,102133',\n",
       " 'World,OWID_WRL,\"Mar 8, 2020\",3585,105824',\n",
       " 'World,OWID_WRL,\"Mar 9, 2020\",3814,109695',\n",
       " 'World,OWID_WRL,\"Mar 10, 2020\",4023,114232',\n",
       " 'World,OWID_WRL,\"Mar 11, 2020\",4292,118610',\n",
       " 'World,OWID_WRL,\"Mar 12, 2020\",4618,125497',\n",
       " 'World,OWID_WRL,\"Mar 13, 2020\",4969,133852',\n",
       " 'World,OWID_WRL,\"Mar 14, 2020\",5407,143227',\n",
       " 'World,OWID_WRL,\"Mar 15, 2020\",5761,151367',\n",
       " 'World,OWID_WRL,\"Mar 16, 2020\",6507,167418',\n",
       " 'World,OWID_WRL,\"Mar 17, 2020\",7103,180163',\n",
       " 'World,OWID_WRL,\"Mar 18, 2020\",7892,194913',\n",
       " 'World,OWID_WRL,\"Mar 19, 2020\",8843,213258',\n",
       " 'World,OWID_WRL,\"Mar 20, 2020\",9884,242472',\n",
       " 'World,OWID_WRL,\"Mar 21, 2020\",11251,271241',\n",
       " 'World,OWID_WRL,\"Mar 22, 2020\",12941,305270',\n",
       " 'World,OWID_WRL,\"Mar 23, 2020\",14601,338298',\n",
       " 'World,OWID_WRL,\"Mar 24, 2020\",16365,378113',\n",
       " 'World,OWID_WRL,\"Mar 25, 2020\",18565,417061',\n",
       " 'World,OWID_WRL,\"Mar 26, 2020\",20988,467929',\n",
       " 'World,OWID_WRL,\"Mar 27, 2020\",23669,528025']"
      ]
     },
     "execution_count": 2,
     "metadata": {},
     "output_type": "execute_result"
    }
   ],
   "source": [
    "with open('covid-19-total-confirmed-cases-vs-total-confirmed-deaths.csv') as f:\n",
    "    lines=f.read()\n",
    "f.close()\n",
    "\n",
    "lines\n",
    "r=\"World,\\w*,\\W\\w*\\s*\\w*,\\s\\d*\\W,(\\d*),(\\d*)\"\n",
    "list1=[]\n",
    "list2=[]\n",
    "matches=re.finditer(r,lines)\n",
    "for m in matches:\n",
    "    list1.append(m.group(0))\n",
    "    list2.append(m.group(2))\n",
    "list1"
   ]
  },
  {
   "cell_type": "code",
   "execution_count": 3,
   "metadata": {},
   "outputs": [
    {
     "data": {
      "text/plain": [
       "['27',\n",
       " '27',\n",
       " '27',\n",
       " '44',\n",
       " '44',\n",
       " '59',\n",
       " '59',\n",
       " '59',\n",
       " '59',\n",
       " '59',\n",
       " '59',\n",
       " '59',\n",
       " '59',\n",
       " '60',\n",
       " '60',\n",
       " '61',\n",
       " '61',\n",
       " '66',\n",
       " '83',\n",
       " '219',\n",
       " '239',\n",
       " '392',\n",
       " '534',\n",
       " '631',\n",
       " '897',\n",
       " '1350',\n",
       " '2023',\n",
       " '2820',\n",
       " '4587',\n",
       " '6067',\n",
       " '7823',\n",
       " '9826',\n",
       " '11946',\n",
       " '14554',\n",
       " '17372',\n",
       " '20615',\n",
       " '24522',\n",
       " '28273',\n",
       " '31491',\n",
       " '34933',\n",
       " '37552',\n",
       " '40540',\n",
       " '43105',\n",
       " '45177',\n",
       " '60328',\n",
       " '64543',\n",
       " '67103',\n",
       " '69265',\n",
       " '71332',\n",
       " '73327',\n",
       " '75191',\n",
       " '75723',\n",
       " '76719',\n",
       " '77804',\n",
       " '78812',\n",
       " '79339',\n",
       " '80132',\n",
       " '80995',\n",
       " '82101',\n",
       " '83365',\n",
       " '85203',\n",
       " '87024',\n",
       " '89068',\n",
       " '90664',\n",
       " '93077',\n",
       " '95316',\n",
       " '98172',\n",
       " '102133',\n",
       " '105824',\n",
       " '109695',\n",
       " '114232',\n",
       " '118610',\n",
       " '125497',\n",
       " '133852',\n",
       " '143227',\n",
       " '151367',\n",
       " '167418',\n",
       " '180163',\n",
       " '194913',\n",
       " '213258',\n",
       " '242472',\n",
       " '271241',\n",
       " '305270',\n",
       " '338298',\n",
       " '378113',\n",
       " '417061',\n",
       " '467929',\n",
       " '528025']"
      ]
     },
     "execution_count": 3,
     "metadata": {},
     "output_type": "execute_result"
    }
   ],
   "source": [
    "list2"
   ]
  },
  {
   "cell_type": "code",
   "execution_count": 4,
   "metadata": {},
   "outputs": [
    {
     "data": {
      "text/html": [
       "<div>\n",
       "<style scoped>\n",
       "    .dataframe tbody tr th:only-of-type {\n",
       "        vertical-align: middle;\n",
       "    }\n",
       "\n",
       "    .dataframe tbody tr th {\n",
       "        vertical-align: top;\n",
       "    }\n",
       "\n",
       "    .dataframe thead th {\n",
       "        text-align: right;\n",
       "    }\n",
       "</style>\n",
       "<table border=\"1\" class=\"dataframe\">\n",
       "  <thead>\n",
       "    <tr style=\"text-align: right;\">\n",
       "      <th></th>\n",
       "      <th>Entity</th>\n",
       "      <th>Code</th>\n",
       "      <th>Date</th>\n",
       "      <th>Total confirmed deaths due to COVID-19 (deaths)</th>\n",
       "      <th>Total confirmed cases of COVID-19 (cases)</th>\n",
       "    </tr>\n",
       "  </thead>\n",
       "  <tbody>\n",
       "    <tr>\n",
       "      <td>0</td>\n",
       "      <td>Afghanistan</td>\n",
       "      <td>AFG</td>\n",
       "      <td>Dec 31, 2019</td>\n",
       "      <td>0</td>\n",
       "      <td>0</td>\n",
       "    </tr>\n",
       "    <tr>\n",
       "      <td>1</td>\n",
       "      <td>Afghanistan</td>\n",
       "      <td>AFG</td>\n",
       "      <td>Jan 1, 2020</td>\n",
       "      <td>0</td>\n",
       "      <td>0</td>\n",
       "    </tr>\n",
       "    <tr>\n",
       "      <td>2</td>\n",
       "      <td>Afghanistan</td>\n",
       "      <td>AFG</td>\n",
       "      <td>Jan 2, 2020</td>\n",
       "      <td>0</td>\n",
       "      <td>0</td>\n",
       "    </tr>\n",
       "    <tr>\n",
       "      <td>3</td>\n",
       "      <td>Afghanistan</td>\n",
       "      <td>AFG</td>\n",
       "      <td>Jan 3, 2020</td>\n",
       "      <td>0</td>\n",
       "      <td>0</td>\n",
       "    </tr>\n",
       "    <tr>\n",
       "      <td>4</td>\n",
       "      <td>Afghanistan</td>\n",
       "      <td>AFG</td>\n",
       "      <td>Jan 4, 2020</td>\n",
       "      <td>0</td>\n",
       "      <td>0</td>\n",
       "    </tr>\n",
       "    <tr>\n",
       "      <td>...</td>\n",
       "      <td>...</td>\n",
       "      <td>...</td>\n",
       "      <td>...</td>\n",
       "      <td>...</td>\n",
       "      <td>...</td>\n",
       "    </tr>\n",
       "    <tr>\n",
       "      <td>7208</td>\n",
       "      <td>Zimbabwe</td>\n",
       "      <td>ZWE</td>\n",
       "      <td>Mar 23, 2020</td>\n",
       "      <td>0</td>\n",
       "      <td>2</td>\n",
       "    </tr>\n",
       "    <tr>\n",
       "      <td>7209</td>\n",
       "      <td>Zimbabwe</td>\n",
       "      <td>ZWE</td>\n",
       "      <td>Mar 24, 2020</td>\n",
       "      <td>1</td>\n",
       "      <td>2</td>\n",
       "    </tr>\n",
       "    <tr>\n",
       "      <td>7210</td>\n",
       "      <td>Zimbabwe</td>\n",
       "      <td>ZWE</td>\n",
       "      <td>Mar 25, 2020</td>\n",
       "      <td>1</td>\n",
       "      <td>2</td>\n",
       "    </tr>\n",
       "    <tr>\n",
       "      <td>7211</td>\n",
       "      <td>Zimbabwe</td>\n",
       "      <td>ZWE</td>\n",
       "      <td>Mar 26, 2020</td>\n",
       "      <td>1</td>\n",
       "      <td>3</td>\n",
       "    </tr>\n",
       "    <tr>\n",
       "      <td>7212</td>\n",
       "      <td>Zimbabwe</td>\n",
       "      <td>ZWE</td>\n",
       "      <td>Mar 27, 2020</td>\n",
       "      <td>1</td>\n",
       "      <td>3</td>\n",
       "    </tr>\n",
       "  </tbody>\n",
       "</table>\n",
       "<p>7213 rows × 5 columns</p>\n",
       "</div>"
      ],
      "text/plain": [
       "           Entity Code          Date  \\\n",
       "0     Afghanistan  AFG  Dec 31, 2019   \n",
       "1     Afghanistan  AFG   Jan 1, 2020   \n",
       "2     Afghanistan  AFG   Jan 2, 2020   \n",
       "3     Afghanistan  AFG   Jan 3, 2020   \n",
       "4     Afghanistan  AFG   Jan 4, 2020   \n",
       "...           ...  ...           ...   \n",
       "7208     Zimbabwe  ZWE  Mar 23, 2020   \n",
       "7209     Zimbabwe  ZWE  Mar 24, 2020   \n",
       "7210     Zimbabwe  ZWE  Mar 25, 2020   \n",
       "7211     Zimbabwe  ZWE  Mar 26, 2020   \n",
       "7212     Zimbabwe  ZWE  Mar 27, 2020   \n",
       "\n",
       "      Total confirmed deaths due to COVID-19 (deaths)  \\\n",
       "0                                                   0   \n",
       "1                                                   0   \n",
       "2                                                   0   \n",
       "3                                                   0   \n",
       "4                                                   0   \n",
       "...                                               ...   \n",
       "7208                                                0   \n",
       "7209                                                1   \n",
       "7210                                                1   \n",
       "7211                                                1   \n",
       "7212                                                1   \n",
       "\n",
       "      Total confirmed cases of COVID-19 (cases)  \n",
       "0                                             0  \n",
       "1                                             0  \n",
       "2                                             0  \n",
       "3                                             0  \n",
       "4                                             0  \n",
       "...                                         ...  \n",
       "7208                                          2  \n",
       "7209                                          2  \n",
       "7210                                          2  \n",
       "7211                                          3  \n",
       "7212                                          3  \n",
       "\n",
       "[7213 rows x 5 columns]"
      ]
     },
     "execution_count": 4,
     "metadata": {},
     "output_type": "execute_result"
    }
   ],
   "source": [
    "data=pd.read_csv(\"covid-19-total-confirmed-cases-vs-total-confirmed-deaths.csv\")\n",
    "data"
   ]
  },
  {
   "cell_type": "code",
   "execution_count": 5,
   "metadata": {},
   "outputs": [
    {
     "data": {
      "text/html": [
       "<div>\n",
       "<style scoped>\n",
       "    .dataframe tbody tr th:only-of-type {\n",
       "        vertical-align: middle;\n",
       "    }\n",
       "\n",
       "    .dataframe tbody tr th {\n",
       "        vertical-align: top;\n",
       "    }\n",
       "\n",
       "    .dataframe thead th {\n",
       "        text-align: right;\n",
       "    }\n",
       "</style>\n",
       "<table border=\"1\" class=\"dataframe\">\n",
       "  <thead>\n",
       "    <tr style=\"text-align: right;\">\n",
       "      <th>Date</th>\n",
       "      <th>Dec 31, 2019</th>\n",
       "      <th>Feb 1, 2020</th>\n",
       "      <th>Feb 10, 2020</th>\n",
       "      <th>Feb 11, 2020</th>\n",
       "      <th>Feb 12, 2020</th>\n",
       "      <th>Feb 13, 2020</th>\n",
       "      <th>Feb 14, 2020</th>\n",
       "      <th>Feb 15, 2020</th>\n",
       "      <th>Feb 16, 2020</th>\n",
       "      <th>Feb 17, 2020</th>\n",
       "      <th>...</th>\n",
       "      <th>Mar 25, 2020</th>\n",
       "      <th>Mar 26, 2020</th>\n",
       "      <th>Mar 27, 2020</th>\n",
       "      <th>Mar 3, 2020</th>\n",
       "      <th>Mar 4, 2020</th>\n",
       "      <th>Mar 5, 2020</th>\n",
       "      <th>Mar 6, 2020</th>\n",
       "      <th>Mar 7, 2020</th>\n",
       "      <th>Mar 8, 2020</th>\n",
       "      <th>Mar 9, 2020</th>\n",
       "    </tr>\n",
       "    <tr>\n",
       "      <th>Entity</th>\n",
       "      <th></th>\n",
       "      <th></th>\n",
       "      <th></th>\n",
       "      <th></th>\n",
       "      <th></th>\n",
       "      <th></th>\n",
       "      <th></th>\n",
       "      <th></th>\n",
       "      <th></th>\n",
       "      <th></th>\n",
       "      <th></th>\n",
       "      <th></th>\n",
       "      <th></th>\n",
       "      <th></th>\n",
       "      <th></th>\n",
       "      <th></th>\n",
       "      <th></th>\n",
       "      <th></th>\n",
       "      <th></th>\n",
       "      <th></th>\n",
       "      <th></th>\n",
       "    </tr>\n",
       "  </thead>\n",
       "  <tbody>\n",
       "    <tr>\n",
       "      <td>Afghanistan</td>\n",
       "      <td>0.0</td>\n",
       "      <td>0.0</td>\n",
       "      <td>0.0</td>\n",
       "      <td>0.0</td>\n",
       "      <td>0.0</td>\n",
       "      <td>0.0</td>\n",
       "      <td>0.0</td>\n",
       "      <td>0.0</td>\n",
       "      <td>0.0</td>\n",
       "      <td>0.0</td>\n",
       "      <td>...</td>\n",
       "      <td>42.0</td>\n",
       "      <td>75.0</td>\n",
       "      <td>75.0</td>\n",
       "      <td>NaN</td>\n",
       "      <td>NaN</td>\n",
       "      <td>NaN</td>\n",
       "      <td>NaN</td>\n",
       "      <td>NaN</td>\n",
       "      <td>4.0</td>\n",
       "      <td>NaN</td>\n",
       "    </tr>\n",
       "    <tr>\n",
       "      <td>Albania</td>\n",
       "      <td>NaN</td>\n",
       "      <td>NaN</td>\n",
       "      <td>NaN</td>\n",
       "      <td>NaN</td>\n",
       "      <td>NaN</td>\n",
       "      <td>NaN</td>\n",
       "      <td>NaN</td>\n",
       "      <td>NaN</td>\n",
       "      <td>NaN</td>\n",
       "      <td>NaN</td>\n",
       "      <td>...</td>\n",
       "      <td>123.0</td>\n",
       "      <td>146.0</td>\n",
       "      <td>174.0</td>\n",
       "      <td>NaN</td>\n",
       "      <td>NaN</td>\n",
       "      <td>NaN</td>\n",
       "      <td>NaN</td>\n",
       "      <td>NaN</td>\n",
       "      <td>NaN</td>\n",
       "      <td>2.0</td>\n",
       "    </tr>\n",
       "    <tr>\n",
       "      <td>Algeria</td>\n",
       "      <td>0.0</td>\n",
       "      <td>0.0</td>\n",
       "      <td>0.0</td>\n",
       "      <td>0.0</td>\n",
       "      <td>0.0</td>\n",
       "      <td>0.0</td>\n",
       "      <td>0.0</td>\n",
       "      <td>0.0</td>\n",
       "      <td>0.0</td>\n",
       "      <td>0.0</td>\n",
       "      <td>...</td>\n",
       "      <td>231.0</td>\n",
       "      <td>264.0</td>\n",
       "      <td>305.0</td>\n",
       "      <td>NaN</td>\n",
       "      <td>5.0</td>\n",
       "      <td>12.0</td>\n",
       "      <td>17.0</td>\n",
       "      <td>NaN</td>\n",
       "      <td>NaN</td>\n",
       "      <td>20.0</td>\n",
       "    </tr>\n",
       "    <tr>\n",
       "      <td>Andorra</td>\n",
       "      <td>NaN</td>\n",
       "      <td>NaN</td>\n",
       "      <td>NaN</td>\n",
       "      <td>NaN</td>\n",
       "      <td>NaN</td>\n",
       "      <td>NaN</td>\n",
       "      <td>NaN</td>\n",
       "      <td>NaN</td>\n",
       "      <td>NaN</td>\n",
       "      <td>NaN</td>\n",
       "      <td>...</td>\n",
       "      <td>164.0</td>\n",
       "      <td>188.0</td>\n",
       "      <td>224.0</td>\n",
       "      <td>1.0</td>\n",
       "      <td>NaN</td>\n",
       "      <td>NaN</td>\n",
       "      <td>NaN</td>\n",
       "      <td>NaN</td>\n",
       "      <td>NaN</td>\n",
       "      <td>NaN</td>\n",
       "    </tr>\n",
       "    <tr>\n",
       "      <td>Angola</td>\n",
       "      <td>NaN</td>\n",
       "      <td>NaN</td>\n",
       "      <td>NaN</td>\n",
       "      <td>NaN</td>\n",
       "      <td>NaN</td>\n",
       "      <td>NaN</td>\n",
       "      <td>NaN</td>\n",
       "      <td>NaN</td>\n",
       "      <td>NaN</td>\n",
       "      <td>NaN</td>\n",
       "      <td>...</td>\n",
       "      <td>2.0</td>\n",
       "      <td>2.0</td>\n",
       "      <td>3.0</td>\n",
       "      <td>NaN</td>\n",
       "      <td>NaN</td>\n",
       "      <td>NaN</td>\n",
       "      <td>NaN</td>\n",
       "      <td>NaN</td>\n",
       "      <td>NaN</td>\n",
       "      <td>NaN</td>\n",
       "    </tr>\n",
       "    <tr>\n",
       "      <td>...</td>\n",
       "      <td>...</td>\n",
       "      <td>...</td>\n",
       "      <td>...</td>\n",
       "      <td>...</td>\n",
       "      <td>...</td>\n",
       "      <td>...</td>\n",
       "      <td>...</td>\n",
       "      <td>...</td>\n",
       "      <td>...</td>\n",
       "      <td>...</td>\n",
       "      <td>...</td>\n",
       "      <td>...</td>\n",
       "      <td>...</td>\n",
       "      <td>...</td>\n",
       "      <td>...</td>\n",
       "      <td>...</td>\n",
       "      <td>...</td>\n",
       "      <td>...</td>\n",
       "      <td>...</td>\n",
       "      <td>...</td>\n",
       "      <td>...</td>\n",
       "    </tr>\n",
       "    <tr>\n",
       "      <td>Venezuela</td>\n",
       "      <td>NaN</td>\n",
       "      <td>NaN</td>\n",
       "      <td>NaN</td>\n",
       "      <td>NaN</td>\n",
       "      <td>NaN</td>\n",
       "      <td>NaN</td>\n",
       "      <td>NaN</td>\n",
       "      <td>NaN</td>\n",
       "      <td>NaN</td>\n",
       "      <td>NaN</td>\n",
       "      <td>...</td>\n",
       "      <td>91.0</td>\n",
       "      <td>106.0</td>\n",
       "      <td>107.0</td>\n",
       "      <td>NaN</td>\n",
       "      <td>NaN</td>\n",
       "      <td>NaN</td>\n",
       "      <td>NaN</td>\n",
       "      <td>NaN</td>\n",
       "      <td>NaN</td>\n",
       "      <td>NaN</td>\n",
       "    </tr>\n",
       "    <tr>\n",
       "      <td>Vietnam</td>\n",
       "      <td>0.0</td>\n",
       "      <td>5.0</td>\n",
       "      <td>14.0</td>\n",
       "      <td>15.0</td>\n",
       "      <td>15.0</td>\n",
       "      <td>16.0</td>\n",
       "      <td>16.0</td>\n",
       "      <td>16.0</td>\n",
       "      <td>16.0</td>\n",
       "      <td>16.0</td>\n",
       "      <td>...</td>\n",
       "      <td>134.0</td>\n",
       "      <td>148.0</td>\n",
       "      <td>153.0</td>\n",
       "      <td>NaN</td>\n",
       "      <td>NaN</td>\n",
       "      <td>NaN</td>\n",
       "      <td>NaN</td>\n",
       "      <td>17.0</td>\n",
       "      <td>21.0</td>\n",
       "      <td>30.0</td>\n",
       "    </tr>\n",
       "    <tr>\n",
       "      <td>World</td>\n",
       "      <td>27.0</td>\n",
       "      <td>11946.0</td>\n",
       "      <td>40540.0</td>\n",
       "      <td>43105.0</td>\n",
       "      <td>45177.0</td>\n",
       "      <td>60328.0</td>\n",
       "      <td>64543.0</td>\n",
       "      <td>67103.0</td>\n",
       "      <td>69265.0</td>\n",
       "      <td>71332.0</td>\n",
       "      <td>...</td>\n",
       "      <td>417061.0</td>\n",
       "      <td>467929.0</td>\n",
       "      <td>528025.0</td>\n",
       "      <td>90664.0</td>\n",
       "      <td>93077.0</td>\n",
       "      <td>95316.0</td>\n",
       "      <td>98172.0</td>\n",
       "      <td>102133.0</td>\n",
       "      <td>105824.0</td>\n",
       "      <td>109695.0</td>\n",
       "    </tr>\n",
       "    <tr>\n",
       "      <td>Zambia</td>\n",
       "      <td>NaN</td>\n",
       "      <td>NaN</td>\n",
       "      <td>NaN</td>\n",
       "      <td>NaN</td>\n",
       "      <td>NaN</td>\n",
       "      <td>NaN</td>\n",
       "      <td>NaN</td>\n",
       "      <td>NaN</td>\n",
       "      <td>NaN</td>\n",
       "      <td>NaN</td>\n",
       "      <td>...</td>\n",
       "      <td>3.0</td>\n",
       "      <td>12.0</td>\n",
       "      <td>14.0</td>\n",
       "      <td>NaN</td>\n",
       "      <td>NaN</td>\n",
       "      <td>NaN</td>\n",
       "      <td>NaN</td>\n",
       "      <td>NaN</td>\n",
       "      <td>NaN</td>\n",
       "      <td>NaN</td>\n",
       "    </tr>\n",
       "    <tr>\n",
       "      <td>Zimbabwe</td>\n",
       "      <td>NaN</td>\n",
       "      <td>NaN</td>\n",
       "      <td>NaN</td>\n",
       "      <td>NaN</td>\n",
       "      <td>NaN</td>\n",
       "      <td>NaN</td>\n",
       "      <td>NaN</td>\n",
       "      <td>NaN</td>\n",
       "      <td>NaN</td>\n",
       "      <td>NaN</td>\n",
       "      <td>...</td>\n",
       "      <td>2.0</td>\n",
       "      <td>3.0</td>\n",
       "      <td>3.0</td>\n",
       "      <td>NaN</td>\n",
       "      <td>NaN</td>\n",
       "      <td>NaN</td>\n",
       "      <td>NaN</td>\n",
       "      <td>NaN</td>\n",
       "      <td>NaN</td>\n",
       "      <td>NaN</td>\n",
       "    </tr>\n",
       "  </tbody>\n",
       "</table>\n",
       "<p>196 rows × 88 columns</p>\n",
       "</div>"
      ],
      "text/plain": [
       "Date         Dec 31, 2019  Feb 1, 2020  Feb 10, 2020  Feb 11, 2020  \\\n",
       "Entity                                                               \n",
       "Afghanistan           0.0          0.0           0.0           0.0   \n",
       "Albania               NaN          NaN           NaN           NaN   \n",
       "Algeria               0.0          0.0           0.0           0.0   \n",
       "Andorra               NaN          NaN           NaN           NaN   \n",
       "Angola                NaN          NaN           NaN           NaN   \n",
       "...                   ...          ...           ...           ...   \n",
       "Venezuela             NaN          NaN           NaN           NaN   \n",
       "Vietnam               0.0          5.0          14.0          15.0   \n",
       "World                27.0      11946.0       40540.0       43105.0   \n",
       "Zambia                NaN          NaN           NaN           NaN   \n",
       "Zimbabwe              NaN          NaN           NaN           NaN   \n",
       "\n",
       "Date         Feb 12, 2020  Feb 13, 2020  Feb 14, 2020  Feb 15, 2020  \\\n",
       "Entity                                                                \n",
       "Afghanistan           0.0           0.0           0.0           0.0   \n",
       "Albania               NaN           NaN           NaN           NaN   \n",
       "Algeria               0.0           0.0           0.0           0.0   \n",
       "Andorra               NaN           NaN           NaN           NaN   \n",
       "Angola                NaN           NaN           NaN           NaN   \n",
       "...                   ...           ...           ...           ...   \n",
       "Venezuela             NaN           NaN           NaN           NaN   \n",
       "Vietnam              15.0          16.0          16.0          16.0   \n",
       "World             45177.0       60328.0       64543.0       67103.0   \n",
       "Zambia                NaN           NaN           NaN           NaN   \n",
       "Zimbabwe              NaN           NaN           NaN           NaN   \n",
       "\n",
       "Date         Feb 16, 2020  Feb 17, 2020  ...  Mar 25, 2020  Mar 26, 2020  \\\n",
       "Entity                                   ...                               \n",
       "Afghanistan           0.0           0.0  ...          42.0          75.0   \n",
       "Albania               NaN           NaN  ...         123.0         146.0   \n",
       "Algeria               0.0           0.0  ...         231.0         264.0   \n",
       "Andorra               NaN           NaN  ...         164.0         188.0   \n",
       "Angola                NaN           NaN  ...           2.0           2.0   \n",
       "...                   ...           ...  ...           ...           ...   \n",
       "Venezuela             NaN           NaN  ...          91.0         106.0   \n",
       "Vietnam              16.0          16.0  ...         134.0         148.0   \n",
       "World             69265.0       71332.0  ...      417061.0      467929.0   \n",
       "Zambia                NaN           NaN  ...           3.0          12.0   \n",
       "Zimbabwe              NaN           NaN  ...           2.0           3.0   \n",
       "\n",
       "Date         Mar 27, 2020  Mar 3, 2020  Mar 4, 2020  Mar 5, 2020  Mar 6, 2020  \\\n",
       "Entity                                                                          \n",
       "Afghanistan          75.0          NaN          NaN          NaN          NaN   \n",
       "Albania             174.0          NaN          NaN          NaN          NaN   \n",
       "Algeria             305.0          NaN          5.0         12.0         17.0   \n",
       "Andorra             224.0          1.0          NaN          NaN          NaN   \n",
       "Angola                3.0          NaN          NaN          NaN          NaN   \n",
       "...                   ...          ...          ...          ...          ...   \n",
       "Venezuela           107.0          NaN          NaN          NaN          NaN   \n",
       "Vietnam             153.0          NaN          NaN          NaN          NaN   \n",
       "World            528025.0      90664.0      93077.0      95316.0      98172.0   \n",
       "Zambia               14.0          NaN          NaN          NaN          NaN   \n",
       "Zimbabwe              3.0          NaN          NaN          NaN          NaN   \n",
       "\n",
       "Date         Mar 7, 2020  Mar 8, 2020  Mar 9, 2020  \n",
       "Entity                                              \n",
       "Afghanistan          NaN          4.0          NaN  \n",
       "Albania              NaN          NaN          2.0  \n",
       "Algeria              NaN          NaN         20.0  \n",
       "Andorra              NaN          NaN          NaN  \n",
       "Angola               NaN          NaN          NaN  \n",
       "...                  ...          ...          ...  \n",
       "Venezuela            NaN          NaN          NaN  \n",
       "Vietnam             17.0         21.0         30.0  \n",
       "World           102133.0     105824.0     109695.0  \n",
       "Zambia               NaN          NaN          NaN  \n",
       "Zimbabwe             NaN          NaN          NaN  \n",
       "\n",
       "[196 rows x 88 columns]"
      ]
     },
     "execution_count": 5,
     "metadata": {},
     "output_type": "execute_result"
    }
   ],
   "source": [
    "data1=data.pivot(index=\"Entity\", columns='Date'\n",
    "               , values='Total confirmed cases of COVID-19 (cases)')\n",
    "data1"
   ]
  },
  {
   "cell_type": "code",
   "execution_count": 6,
   "metadata": {},
   "outputs": [
    {
     "data": {
      "text/plain": [
       "Entity\n",
       "Afghanistan                 0.0\n",
       "Algeria                     0.0\n",
       "Armenia                     0.0\n",
       "Australia                  15.0\n",
       "Austria                     0.0\n",
       "                         ...   \n",
       "United Arab Emirates        8.0\n",
       "United Kingdom              9.0\n",
       "United States              15.0\n",
       "Vietnam                    16.0\n",
       "World                   64543.0\n",
       "Name: Feb 14, 2020, Length: 68, dtype: float64"
      ]
     },
     "execution_count": 6,
     "metadata": {},
     "output_type": "execute_result"
    }
   ],
   "source": [
    "#remove NaN value\n",
    "data2=data1[:][\"Feb 14, 2020\"].dropna()\n",
    "data2"
   ]
  },
  {
   "cell_type": "code",
   "execution_count": 7,
   "metadata": {},
   "outputs": [
    {
     "data": {
      "text/plain": [
       "Entity\n",
       "Australia                  15.0\n",
       "Belgium                     1.0\n",
       "Cambodia                    1.0\n",
       "Canada                      7.0\n",
       "China                   64021.0\n",
       "Finland                     1.0\n",
       "France                     11.0\n",
       "Germany                    15.0\n",
       "India                       3.0\n",
       "International             221.0\n",
       "Italy                       3.0\n",
       "Japan                      30.0\n",
       "Malaysia                   19.0\n",
       "Nepal                       1.0\n",
       "Philippines                 3.0\n",
       "Russia                      2.0\n",
       "Singapore                  58.0\n",
       "South Korea                28.0\n",
       "Spain                       2.0\n",
       "Sri Lanka                   1.0\n",
       "Sweden                      1.0\n",
       "Taiwan                     18.0\n",
       "Thailand                   33.0\n",
       "United Arab Emirates        8.0\n",
       "United Kingdom              9.0\n",
       "United States              15.0\n",
       "Vietnam                    16.0\n",
       "World                   64543.0\n",
       "Name: Feb 14, 2020, dtype: float64"
      ]
     },
     "execution_count": 7,
     "metadata": {},
     "output_type": "execute_result"
    }
   ],
   "source": [
    "#remove zero value\n",
    "data3=data2[data2!=0].dropna()\n",
    "data3"
   ]
  },
  {
   "cell_type": "code",
   "execution_count": 8,
   "metadata": {},
   "outputs": [
    {
     "data": {
      "text/plain": [
       "Entity\n",
       "Australia               15.0\n",
       "Belgium                  1.0\n",
       "Cambodia                 1.0\n",
       "Canada                   7.0\n",
       "Finland                  1.0\n",
       "France                  11.0\n",
       "Germany                 15.0\n",
       "India                    3.0\n",
       "Italy                    3.0\n",
       "Japan                   30.0\n",
       "Malaysia                19.0\n",
       "Nepal                    1.0\n",
       "Philippines              3.0\n",
       "Russia                   2.0\n",
       "Singapore               58.0\n",
       "South Korea             28.0\n",
       "Spain                    2.0\n",
       "Sri Lanka                1.0\n",
       "Sweden                   1.0\n",
       "Taiwan                  18.0\n",
       "Thailand                33.0\n",
       "United Arab Emirates     8.0\n",
       "United Kingdom           9.0\n",
       "United States           15.0\n",
       "Vietnam                 16.0\n",
       "Name: Feb 14, 2020, dtype: float64"
      ]
     },
     "execution_count": 8,
     "metadata": {},
     "output_type": "execute_result"
    }
   ],
   "source": [
    "data4=data3[data3<200]\n",
    "data4"
   ]
  },
  {
   "cell_type": "code",
   "execution_count": 9,
   "metadata": {},
   "outputs": [
    {
     "data": {
      "text/plain": [
       "array([15.,  1.,  7., 11.,  3., 30., 19.,  2., 58., 28., 18., 33.,  8.,\n",
       "        9., 16.])"
      ]
     },
     "execution_count": 9,
     "metadata": {},
     "output_type": "execute_result"
    }
   ],
   "source": [
    "#x-value \n",
    "data5=data4.unique()\n",
    "data5"
   ]
  },
  {
   "cell_type": "markdown",
   "metadata": {},
   "source": [
    "### The dataset information:\n",
    "I choose data about an ongoing worldwide pandemic of coronavirus disease 2019 (COVID-19). The csv file took from  the website https://ourworldindata.org/coronavirus?fbclid=IwAR3G4Q93pQkg6-qyNLZwpQo4eF5rk8J5MpYrsci6ZMRKEiHMmptG4kfMlps . I found from google about the pandemic coronavirus information in the world.\n",
    "\n",
    "The draw data contain the information of all countries in the world with total confirmed deaths due to COVID-19 (deaths), and total confirmed cases of COVID-19 (cases) from December, 31st, 2019 to the March, 20th, 2020. \n",
    "\n",
    "I picked the data only in February 14th, 2020 to working on. And then I filter out the NA and 0 value of all countries don't have any deaths count.\n",
    "\n",
    "My cleaned data file is contain the column of confirmed deaths due to COVID-19 of all the countries have the deaths count less than 200 on February 14th, 2020. "
   ]
  },
  {
   "cell_type": "code",
   "execution_count": 10,
   "metadata": {},
   "outputs": [
    {
     "data": {
      "text/html": [
       "<div>\n",
       "<style scoped>\n",
       "    .dataframe tbody tr th:only-of-type {\n",
       "        vertical-align: middle;\n",
       "    }\n",
       "\n",
       "    .dataframe tbody tr th {\n",
       "        vertical-align: top;\n",
       "    }\n",
       "\n",
       "    .dataframe thead th {\n",
       "        text-align: right;\n",
       "    }\n",
       "</style>\n",
       "<table border=\"1\" class=\"dataframe\">\n",
       "  <thead>\n",
       "    <tr style=\"text-align: right;\">\n",
       "      <th></th>\n",
       "      <th>x</th>\n",
       "      <th>y</th>\n",
       "    </tr>\n",
       "  </thead>\n",
       "  <tbody>\n",
       "    <tr>\n",
       "      <td>0</td>\n",
       "      <td>15.0</td>\n",
       "      <td>20.994787</td>\n",
       "    </tr>\n",
       "    <tr>\n",
       "      <td>1</td>\n",
       "      <td>1.0</td>\n",
       "      <td>1.137344</td>\n",
       "    </tr>\n",
       "    <tr>\n",
       "      <td>2</td>\n",
       "      <td>7.0</td>\n",
       "      <td>32.699400</td>\n",
       "    </tr>\n",
       "    <tr>\n",
       "      <td>3</td>\n",
       "      <td>11.0</td>\n",
       "      <td>29.228282</td>\n",
       "    </tr>\n",
       "    <tr>\n",
       "      <td>4</td>\n",
       "      <td>3.0</td>\n",
       "      <td>22.216640</td>\n",
       "    </tr>\n",
       "    <tr>\n",
       "      <td>5</td>\n",
       "      <td>30.0</td>\n",
       "      <td>42.612656</td>\n",
       "    </tr>\n",
       "    <tr>\n",
       "      <td>6</td>\n",
       "      <td>19.0</td>\n",
       "      <td>28.876863</td>\n",
       "    </tr>\n",
       "    <tr>\n",
       "      <td>7</td>\n",
       "      <td>2.0</td>\n",
       "      <td>11.676815</td>\n",
       "    </tr>\n",
       "    <tr>\n",
       "      <td>8</td>\n",
       "      <td>58.0</td>\n",
       "      <td>122.869171</td>\n",
       "    </tr>\n",
       "    <tr>\n",
       "      <td>9</td>\n",
       "      <td>28.0</td>\n",
       "      <td>55.354297</td>\n",
       "    </tr>\n",
       "    <tr>\n",
       "      <td>10</td>\n",
       "      <td>18.0</td>\n",
       "      <td>43.964253</td>\n",
       "    </tr>\n",
       "    <tr>\n",
       "      <td>11</td>\n",
       "      <td>33.0</td>\n",
       "      <td>48.624665</td>\n",
       "    </tr>\n",
       "    <tr>\n",
       "      <td>12</td>\n",
       "      <td>8.0</td>\n",
       "      <td>28.883078</td>\n",
       "    </tr>\n",
       "    <tr>\n",
       "      <td>13</td>\n",
       "      <td>9.0</td>\n",
       "      <td>34.575755</td>\n",
       "    </tr>\n",
       "    <tr>\n",
       "      <td>14</td>\n",
       "      <td>16.0</td>\n",
       "      <td>43.774583</td>\n",
       "    </tr>\n",
       "  </tbody>\n",
       "</table>\n",
       "</div>"
      ],
      "text/plain": [
       "       x           y\n",
       "0   15.0   20.994787\n",
       "1    1.0    1.137344\n",
       "2    7.0   32.699400\n",
       "3   11.0   29.228282\n",
       "4    3.0   22.216640\n",
       "5   30.0   42.612656\n",
       "6   19.0   28.876863\n",
       "7    2.0   11.676815\n",
       "8   58.0  122.869171\n",
       "9   28.0   55.354297\n",
       "10  18.0   43.964253\n",
       "11  33.0   48.624665\n",
       "12   8.0   28.883078\n",
       "13   9.0   34.575755\n",
       "14  16.0   43.774583"
      ]
     },
     "execution_count": 10,
     "metadata": {},
     "output_type": "execute_result"
    }
   ],
   "source": [
    "x=data5\n",
    "y1=[]\n",
    "b0=3\n",
    "b1=2\n",
    "for i in range(0,15):\n",
    "    e=norm.rvs(0,10)\n",
    "    y1.append(b0+x[i]*b1+e)\n",
    "\n",
    "\n",
    "dat1={'x':x,\n",
    "      'y':y1}\n",
    "df1 = pd.DataFrame(dat1)\n",
    "df1"
   ]
  },
  {
   "cell_type": "code",
   "execution_count": 11,
   "metadata": {},
   "outputs": [
    {
     "data": {
      "text/plain": [
       "<matplotlib.collections.PathCollection at 0x111418c90>"
      ]
     },
     "execution_count": 11,
     "metadata": {},
     "output_type": "execute_result"
    },
    {
     "data": {
      "image/png": "[encoded data removed]",
      "text/plain": [
       "<Figure size 432x288 with 1 Axes>"
      ]
     },
     "metadata": {
      "needs_background": "light"
     },
     "output_type": "display_data"
    }
   ],
   "source": [
    "plt.scatter(x,y1)"
   ]
  },
  {
   "cell_type": "code",
   "execution_count": 12,
   "metadata": {},
   "outputs": [
    {
     "data": {
      "text/html": [
       "<div>\n",
       "<style scoped>\n",
       "    .dataframe tbody tr th:only-of-type {\n",
       "        vertical-align: middle;\n",
       "    }\n",
       "\n",
       "    .dataframe tbody tr th {\n",
       "        vertical-align: top;\n",
       "    }\n",
       "\n",
       "    .dataframe thead th {\n",
       "        text-align: right;\n",
       "    }\n",
       "</style>\n",
       "<table border=\"1\" class=\"dataframe\">\n",
       "  <thead>\n",
       "    <tr style=\"text-align: right;\">\n",
       "      <th></th>\n",
       "      <th>x</th>\n",
       "      <th>y</th>\n",
       "    </tr>\n",
       "  </thead>\n",
       "  <tbody>\n",
       "    <tr>\n",
       "      <td>0</td>\n",
       "      <td>15.0</td>\n",
       "      <td>31.595679</td>\n",
       "    </tr>\n",
       "    <tr>\n",
       "      <td>1</td>\n",
       "      <td>1.0</td>\n",
       "      <td>-5.175218</td>\n",
       "    </tr>\n",
       "    <tr>\n",
       "      <td>2</td>\n",
       "      <td>7.0</td>\n",
       "      <td>-16.781877</td>\n",
       "    </tr>\n",
       "    <tr>\n",
       "      <td>3</td>\n",
       "      <td>11.0</td>\n",
       "      <td>16.963469</td>\n",
       "    </tr>\n",
       "    <tr>\n",
       "      <td>4</td>\n",
       "      <td>3.0</td>\n",
       "      <td>28.070147</td>\n",
       "    </tr>\n",
       "    <tr>\n",
       "      <td>5</td>\n",
       "      <td>30.0</td>\n",
       "      <td>59.138576</td>\n",
       "    </tr>\n",
       "    <tr>\n",
       "      <td>6</td>\n",
       "      <td>19.0</td>\n",
       "      <td>31.176580</td>\n",
       "    </tr>\n",
       "    <tr>\n",
       "      <td>7</td>\n",
       "      <td>2.0</td>\n",
       "      <td>38.291429</td>\n",
       "    </tr>\n",
       "    <tr>\n",
       "      <td>8</td>\n",
       "      <td>58.0</td>\n",
       "      <td>131.600224</td>\n",
       "    </tr>\n",
       "    <tr>\n",
       "      <td>9</td>\n",
       "      <td>28.0</td>\n",
       "      <td>70.498949</td>\n",
       "    </tr>\n",
       "    <tr>\n",
       "      <td>10</td>\n",
       "      <td>18.0</td>\n",
       "      <td>48.513656</td>\n",
       "    </tr>\n",
       "    <tr>\n",
       "      <td>11</td>\n",
       "      <td>33.0</td>\n",
       "      <td>63.932997</td>\n",
       "    </tr>\n",
       "    <tr>\n",
       "      <td>12</td>\n",
       "      <td>8.0</td>\n",
       "      <td>-2.273095</td>\n",
       "    </tr>\n",
       "    <tr>\n",
       "      <td>13</td>\n",
       "      <td>9.0</td>\n",
       "      <td>35.488306</td>\n",
       "    </tr>\n",
       "    <tr>\n",
       "      <td>14</td>\n",
       "      <td>16.0</td>\n",
       "      <td>23.075583</td>\n",
       "    </tr>\n",
       "  </tbody>\n",
       "</table>\n",
       "</div>"
      ],
      "text/plain": [
       "       x           y\n",
       "0   15.0   31.595679\n",
       "1    1.0   -5.175218\n",
       "2    7.0  -16.781877\n",
       "3   11.0   16.963469\n",
       "4    3.0   28.070147\n",
       "5   30.0   59.138576\n",
       "6   19.0   31.176580\n",
       "7    2.0   38.291429\n",
       "8   58.0  131.600224\n",
       "9   28.0   70.498949\n",
       "10  18.0   48.513656\n",
       "11  33.0   63.932997\n",
       "12   8.0   -2.273095\n",
       "13   9.0   35.488306\n",
       "14  16.0   23.075583"
      ]
     },
     "execution_count": 12,
     "metadata": {},
     "output_type": "execute_result"
    }
   ],
   "source": [
    "y2=[]\n",
    "\n",
    "for i in range(0,15):\n",
    "    e=norm.rvs(0,20)\n",
    "    y2.append(b0+x[i]*b1+e)\n",
    "\n",
    "dat2={'x':x,\n",
    "      'y':y2}\n",
    "df2= pd.DataFrame(dat2)\n",
    "df2"
   ]
  },
  {
   "cell_type": "code",
   "execution_count": 13,
   "metadata": {},
   "outputs": [
    {
     "data": {
      "text/plain": [
       "<matplotlib.collections.PathCollection at 0x1a24aa2a50>"
      ]
     },
     "execution_count": 13,
     "metadata": {},
     "output_type": "execute_result"
    },
    {
     "data": {
      "image/png": "[encoded data removed]",
      "text/plain": [
       "<Figure size 432x288 with 1 Axes>"
      ]
     },
     "metadata": {
      "needs_background": "light"
     },
     "output_type": "display_data"
    }
   ],
   "source": [
    "plt.scatter(x,y2)"
   ]
  },
  {
   "cell_type": "code",
   "execution_count": 14,
   "metadata": {},
   "outputs": [
    {
     "data": {
      "text/html": [
       "<div>\n",
       "<style scoped>\n",
       "    .dataframe tbody tr th:only-of-type {\n",
       "        vertical-align: middle;\n",
       "    }\n",
       "\n",
       "    .dataframe tbody tr th {\n",
       "        vertical-align: top;\n",
       "    }\n",
       "\n",
       "    .dataframe thead th {\n",
       "        text-align: right;\n",
       "    }\n",
       "</style>\n",
       "<table border=\"1\" class=\"dataframe\">\n",
       "  <thead>\n",
       "    <tr style=\"text-align: right;\">\n",
       "      <th></th>\n",
       "      <th>x</th>\n",
       "      <th>y</th>\n",
       "    </tr>\n",
       "  </thead>\n",
       "  <tbody>\n",
       "    <tr>\n",
       "      <td>0</td>\n",
       "      <td>15.0</td>\n",
       "      <td>80.217446</td>\n",
       "    </tr>\n",
       "    <tr>\n",
       "      <td>1</td>\n",
       "      <td>1.0</td>\n",
       "      <td>-0.578297</td>\n",
       "    </tr>\n",
       "    <tr>\n",
       "      <td>2</td>\n",
       "      <td>7.0</td>\n",
       "      <td>20.064577</td>\n",
       "    </tr>\n",
       "    <tr>\n",
       "      <td>3</td>\n",
       "      <td>11.0</td>\n",
       "      <td>2.609246</td>\n",
       "    </tr>\n",
       "    <tr>\n",
       "      <td>4</td>\n",
       "      <td>3.0</td>\n",
       "      <td>10.497948</td>\n",
       "    </tr>\n",
       "    <tr>\n",
       "      <td>5</td>\n",
       "      <td>30.0</td>\n",
       "      <td>20.586054</td>\n",
       "    </tr>\n",
       "    <tr>\n",
       "      <td>6</td>\n",
       "      <td>19.0</td>\n",
       "      <td>81.848262</td>\n",
       "    </tr>\n",
       "    <tr>\n",
       "      <td>7</td>\n",
       "      <td>2.0</td>\n",
       "      <td>32.425656</td>\n",
       "    </tr>\n",
       "    <tr>\n",
       "      <td>8</td>\n",
       "      <td>58.0</td>\n",
       "      <td>95.903343</td>\n",
       "    </tr>\n",
       "    <tr>\n",
       "      <td>9</td>\n",
       "      <td>28.0</td>\n",
       "      <td>31.676076</td>\n",
       "    </tr>\n",
       "    <tr>\n",
       "      <td>10</td>\n",
       "      <td>18.0</td>\n",
       "      <td>35.780894</td>\n",
       "    </tr>\n",
       "    <tr>\n",
       "      <td>11</td>\n",
       "      <td>33.0</td>\n",
       "      <td>81.264169</td>\n",
       "    </tr>\n",
       "    <tr>\n",
       "      <td>12</td>\n",
       "      <td>8.0</td>\n",
       "      <td>77.239774</td>\n",
       "    </tr>\n",
       "    <tr>\n",
       "      <td>13</td>\n",
       "      <td>9.0</td>\n",
       "      <td>23.108721</td>\n",
       "    </tr>\n",
       "    <tr>\n",
       "      <td>14</td>\n",
       "      <td>16.0</td>\n",
       "      <td>38.637908</td>\n",
       "    </tr>\n",
       "  </tbody>\n",
       "</table>\n",
       "</div>"
      ],
      "text/plain": [
       "       x          y\n",
       "0   15.0  80.217446\n",
       "1    1.0  -0.578297\n",
       "2    7.0  20.064577\n",
       "3   11.0   2.609246\n",
       "4    3.0  10.497948\n",
       "5   30.0  20.586054\n",
       "6   19.0  81.848262\n",
       "7    2.0  32.425656\n",
       "8   58.0  95.903343\n",
       "9   28.0  31.676076\n",
       "10  18.0  35.780894\n",
       "11  33.0  81.264169\n",
       "12   8.0  77.239774\n",
       "13   9.0  23.108721\n",
       "14  16.0  38.637908"
      ]
     },
     "execution_count": 14,
     "metadata": {},
     "output_type": "execute_result"
    }
   ],
   "source": [
    "y3=[]\n",
    "for i in range(0,15):\n",
    "    e=norm.rvs(0,30)\n",
    "    y3.append(b0+x[i]*b1+e)\n",
    "\n",
    "\n",
    "dat3={'x':x,\n",
    "      'y':y3}\n",
    "df3= pd.DataFrame(dat3)\n",
    "df3"
   ]
  },
  {
   "cell_type": "code",
   "execution_count": 15,
   "metadata": {},
   "outputs": [
    {
     "data": {
      "text/plain": [
       "<matplotlib.collections.PathCollection at 0x1a250a3710>"
      ]
     },
     "execution_count": 15,
     "metadata": {},
     "output_type": "execute_result"
    },
    {
     "data": {
      "image/png": "[encoded data removed]",
      "text/plain": [
       "<Figure size 432x288 with 1 Axes>"
      ]
     },
     "metadata": {
      "needs_background": "light"
     },
     "output_type": "display_data"
    }
   ],
   "source": [
    "plt.scatter(x,y3)"
   ]
  },
  {
   "cell_type": "code",
   "execution_count": 16,
   "metadata": {},
   "outputs": [],
   "source": [
    "df1.to_csv(\"dat1_NL.csv\",index=False)\n",
    "df2.to_csv(\"dat2_NL.csv\",index=False)\n",
    "df3.to_csv(\"dat3_NL.csv\",index=False)"
   ]
  },
  {
   "cell_type": "markdown",
   "metadata": {},
   "source": [
    "## part2 regression\n",
    "- I will assign you a data donor, someone whose files you will read\n",
    "- read their dat1, dat2,dat3 (think about naming objects here)\n",
    "- use pd.read_csv() in Chapter 3 of zybook, or maybe read with np.loadtxt()\n",
    "- for each dataset, make a scatterplot\n",
    "- use your EYES to make an estimate of slope and estimate, call these myslope1, myint1, myslope2, myint2, myslope3, myint3\n",
    "- these will all be different. Don't make it hard!\n",
    "- use your parameter estimates to produce 3 estimates of the y vectors: my_y1, my_y2, my_y3 like this my_y1 = my_int1 + my_slope1 * x , etc.\n",
    "- add each line to the scatter plot which shows its data (1,2,3) use Python to estimate the regression line (beta0hat1 and beta1hat1, ...2, ...3) for your data (see Ch 6)"
   ]
  },
  {
   "cell_type": "code",
   "execution_count": 25,
   "metadata": {},
   "outputs": [],
   "source": [
    "# the usual starting block\n",
    "# added pandas\n",
    "import numpy as np \n",
    "%matplotlib inline   \n",
    "import matplotlib.pyplot as plt\n",
    "import seaborn as sns\n",
    "plt.style.use('fivethirtyeight')\n",
    "import math\n",
    "from scipy import stats\n",
    "import pandas as pd\n",
    "import scipy.stats as st\n",
    "\n",
    "from IPython.core.interactiveshell import InteractiveShell\n",
    "InteractiveShell.ast_node_interactivity = 'all'  \n",
    "# asking jupyter to show all output on execution, not just the final value\n",
    "# other options:  instead of \"all\"  use \"last_expr\" or \"none\""
   ]
  },
  {
   "cell_type": "code",
   "execution_count": 26,
   "metadata": {},
   "outputs": [],
   "source": [
    "dat_1=pd.read_csv(\"dat1_NL.csv\")\n",
    "dat_2=pd.read_csv(\"dat2_NL.csv\")\n",
    "dat_3=pd.read_csv(\"dat3_NL.csv\")"
   ]
  },
  {
   "cell_type": "code",
   "execution_count": 27,
   "metadata": {},
   "outputs": [
    {
     "data": {
      "text/plain": [
       "[15.0,\n",
       " 1.0,\n",
       " 7.0,\n",
       " 11.0,\n",
       " 3.0,\n",
       " 30.0,\n",
       " 19.0,\n",
       " 2.0,\n",
       " 58.0,\n",
       " 28.0,\n",
       " 18.0,\n",
       " 33.0,\n",
       " 8.0,\n",
       " 9.0,\n",
       " 16.0]"
      ]
     },
     "execution_count": 27,
     "metadata": {},
     "output_type": "execute_result"
    }
   ],
   "source": [
    "my_x=dat_1[\"x\"].values.tolist()\n",
    "my_x"
   ]
  },
  {
   "cell_type": "code",
   "execution_count": 28,
   "metadata": {},
   "outputs": [
    {
     "data": {
      "text/plain": [
       "[1.0,\n",
       " 2.0,\n",
       " 3.0,\n",
       " 7.0,\n",
       " 8.0,\n",
       " 9.0,\n",
       " 11.0,\n",
       " 15.0,\n",
       " 16.0,\n",
       " 18.0,\n",
       " 19.0,\n",
       " 28.0,\n",
       " 30.0,\n",
       " 33.0,\n",
       " 58.0]"
      ]
     },
     "execution_count": 28,
     "metadata": {},
     "output_type": "execute_result"
    }
   ],
   "source": [
    "my_x.sort()\n",
    "my_x"
   ]
  },
  {
   "cell_type": "code",
   "execution_count": 29,
   "metadata": {},
   "outputs": [
    {
     "data": {
      "text/plain": [
       "<matplotlib.collections.PathCollection at 0x1a25da8c50>"
      ]
     },
     "execution_count": 29,
     "metadata": {},
     "output_type": "execute_result"
    },
    {
     "data": {
      "text/plain": [
       "[<matplotlib.lines.Line2D at 0x1a25d84f90>]"
      ]
     },
     "execution_count": 29,
     "metadata": {},
     "output_type": "execute_result"
    },
    {
     "data": {
      "image/png": "[encoded data removed]",
      "text/plain": [
       "<Figure size 432x288 with 1 Axes>"
      ]
     },
     "metadata": {},
     "output_type": "display_data"
    }
   ],
   "source": [
    "myslope1=2\n",
    "myint1= -8\n",
    "my_y1=[i*myslope1+myint1 for i in my_x]\n",
    "plt.scatter(dat_1[\"x\"],dat_1[\"y\"])\n",
    "plt.plot(my_x,my_y1,\"r\")\n",
    "plt.grid(\"true\")"
   ]
  },
  {
   "cell_type": "code",
   "execution_count": 30,
   "metadata": {},
   "outputs": [
    {
     "data": {
      "text/plain": [
       "<matplotlib.collections.PathCollection at 0x1a25e1d290>"
      ]
     },
     "execution_count": 30,
     "metadata": {},
     "output_type": "execute_result"
    },
    {
     "data": {
      "text/plain": [
       "[<matplotlib.lines.Line2D at 0x1a25de7c90>]"
      ]
     },
     "execution_count": 30,
     "metadata": {},
     "output_type": "execute_result"
    },
    {
     "data": {
      "image/png": "[encoded data removed]",
      "text/plain": [
       "<Figure size 432x288 with 1 Axes>"
      ]
     },
     "metadata": {},
     "output_type": "display_data"
    }
   ],
   "source": [
    "myslope2=2.7\n",
    "myint2= -8\n",
    "my_y2=[i*myslope2+myint2 for i in my_x]\n",
    "plt.scatter(dat_2[\"x\"],dat_2[\"y\"])\n",
    "plt.plot(my_x,my_y2,\"r\")\n",
    "plt.grid(\"true\")"
   ]
  },
  {
   "cell_type": "code",
   "execution_count": 31,
   "metadata": {},
   "outputs": [
    {
     "data": {
      "text/plain": [
       "<matplotlib.collections.PathCollection at 0x1a25f62d90>"
      ]
     },
     "execution_count": 31,
     "metadata": {},
     "output_type": "execute_result"
    },
    {
     "data": {
      "text/plain": [
       "[<matplotlib.lines.Line2D at 0x1a25eb7890>]"
      ]
     },
     "execution_count": 31,
     "metadata": {},
     "output_type": "execute_result"
    },
    {
     "data": {
      "image/png": "[encoded data removed]",
      "text/plain": [
       "<Figure size 432x288 with 1 Axes>"
      ]
     },
     "metadata": {},
     "output_type": "display_data"
    }
   ],
   "source": [
    "myslope3=2.5\n",
    "myint3= -12\n",
    "my_y3=[i*myslope3+myint3 for i in my_x]\n",
    "plt.scatter(dat_3[\"x\"],dat_3[\"y\"])\n",
    "plt.plot(my_x,my_y3,\"r\")\n",
    "plt.grid(\"true\")"
   ]
  },
  {
   "cell_type": "code",
   "execution_count": 32,
   "metadata": {},
   "outputs": [
    {
     "name": "stdout",
     "output_type": "stream",
     "text": [
      "slope: 2.0\n",
      "intercept: -8.0\n"
     ]
    }
   ],
   "source": [
    "my_reg1=st.linregress(my_x,my_y1)\n",
    "print(\"slope:\",my_reg1[0])  #slope  \n",
    "print(\"intercept:\",my_reg1[1])   #intercept"
   ]
  },
  {
   "cell_type": "code",
   "execution_count": 40,
   "metadata": {},
   "outputs": [
    {
     "data": {
      "text/plain": [
       "<matplotlib.collections.PathCollection at 0x1a2682ec90>"
      ]
     },
     "execution_count": 40,
     "metadata": {},
     "output_type": "execute_result"
    },
    {
     "data": {
      "text/plain": [
       "[<matplotlib.lines.Line2D at 0x1a26809350>]"
      ]
     },
     "execution_count": 40,
     "metadata": {},
     "output_type": "execute_result"
    },
    {
     "data": {
      "image/png": "[encoded data removed]",
      "text/plain": [
       "<Figure size 432x288 with 1 Axes>"
      ]
     },
     "metadata": {},
     "output_type": "display_data"
    }
   ],
   "source": [
    "reg_y1=[i*my_reg1[0]+my_reg1[1] for i in my_x]\n",
    "plt.scatter(dat_1[\"x\"],dat_1[\"y\"])\n",
    "plt.plot(my_x,reg_y1,\"r\")\n",
    "plt.grid(\"true\")"
   ]
  },
  {
   "cell_type": "code",
   "execution_count": 41,
   "metadata": {},
   "outputs": [
    {
     "name": "stdout",
     "output_type": "stream",
     "text": [
      "slope: 2.7000000000000006\n",
      "intercept: -8.0\n"
     ]
    }
   ],
   "source": [
    "my_reg2=st.linregress(my_x,my_y2)\n",
    "print(\"slope:\",my_reg2[0])  #slope  \n",
    "print(\"intercept:\",my_reg2[1])   #intercept"
   ]
  },
  {
   "cell_type": "code",
   "execution_count": 43,
   "metadata": {},
   "outputs": [
    {
     "data": {
      "text/plain": [
       "<matplotlib.collections.PathCollection at 0x1a268db0d0>"
      ]
     },
     "execution_count": 43,
     "metadata": {},
     "output_type": "execute_result"
    },
    {
     "data": {
      "text/plain": [
       "[<matplotlib.lines.Line2D at 0x1a269c7810>]"
      ]
     },
     "execution_count": 43,
     "metadata": {},
     "output_type": "execute_result"
    },
    {
     "data": {
      "image/png": "[encoded data removed]",
      "text/plain": [
       "<Figure size 432x288 with 1 Axes>"
      ]
     },
     "metadata": {},
     "output_type": "display_data"
    }
   ],
   "source": [
    "reg_y2=[i*my_reg2[0]+my_reg2[1] for i in my_x]\n",
    "plt.scatter(dat_1[\"x\"],dat_1[\"y\"])\n",
    "plt.plot(my_x,reg_y2,\"r\")\n",
    "plt.grid(\"true\")"
   ]
  },
  {
   "cell_type": "code",
   "execution_count": 36,
   "metadata": {},
   "outputs": [
    {
     "name": "stdout",
     "output_type": "stream",
     "text": [
      "slope: 2.5\n",
      "intercept: -12.0\n"
     ]
    }
   ],
   "source": [
    "my_reg3=st.linregress(my_x,my_y3)\n",
    "print(\"slope:\",my_reg3[0])  #slope  \n",
    "print(\"intercept:\",my_reg3[1]) #intercept"
   ]
  },
  {
   "cell_type": "code",
   "execution_count": 37,
   "metadata": {},
   "outputs": [
    {
     "data": {
      "text/plain": [
       "<matplotlib.collections.PathCollection at 0x1a265f6d90>"
      ]
     },
     "execution_count": 37,
     "metadata": {},
     "output_type": "execute_result"
    },
    {
     "data": {
      "text/plain": [
       "[<matplotlib.lines.Line2D at 0x1a2655d5d0>]"
      ]
     },
     "execution_count": 37,
     "metadata": {},
     "output_type": "execute_result"
    },
    {
     "data": {
      "image/png": "[encoded data removed]",
      "text/plain": [
       "<Figure size 432x288 with 1 Axes>"
      ]
     },
     "metadata": {},
     "output_type": "display_data"
    }
   ],
   "source": [
    "reg_y3=[i*my_reg3[0]+my_reg3[1] for i in my_x]\n",
    "plt.scatter(dat_1[\"x\"],dat_1[\"y\"])\n",
    "plt.plot(my_x,reg_y3,\"r\")\n",
    "plt.grid(\"true\")"
   ]
  },
  {
   "cell_type": "code",
   "execution_count": null,
   "metadata": {},
   "outputs": [],
   "source": []
  },
  {
   "cell_type": "code",
   "execution_count": null,
   "metadata": {},
   "outputs": [],
   "source": []
  }
 ],
 "metadata": {
  "kernelspec": {
   "display_name": "Python 3",
   "language": "python",
   "name": "python3"
  },
  "language_info": {
   "codemirror_mode": {
    "name": "ipython",
    "version": 3
   },
   "file_extension": ".py",
   "mimetype": "text/x-python",
   "name": "python",
   "nbconvert_exporter": "python",
   "pygments_lexer": "ipython3",
   "version": "3.7.4"
  }
 },
 "nbformat": 4,
 "nbformat_minor": 2
}
