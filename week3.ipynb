{
 "cells": [
  {
   "cell_type": "markdown",
   "metadata": {},
   "source": [
    "## Week 3\n",
    "Using python to calculate probabilities and make simple plots. \n",
    "\n",
    "First load some packages.  We will use these a lot, so this step or something similar should always come first.  "
   ]
  },
  {
   "cell_type": "code",
   "execution_count": 1,
   "metadata": {},
   "outputs": [],
   "source": [
    "import numpy as np  ## np is shorter than numpy; also standard practice, pythonic\n",
    "%matplotlib inline   \n",
    "## that was magic specific to jupyter\n",
    "import matplotlib.pyplot as plt\n",
    "plt.style.use('fivethirtyeight')\n",
    "import math\n",
    "from scipy import stats"
   ]
  },
  {
   "cell_type": "markdown",
   "metadata": {},
   "source": [
    "Shift-tab gets you help, press it over and over to cycle through.  \n",
    "\n",
    "Docstring = ..."
   ]
  },
  {
   "cell_type": "code",
   "execution_count": 13,
   "metadata": {
    "scrolled": false
   },
   "outputs": [
    {
     "data": {
      "text/plain": [
       "<matplotlib.collections.PathCollection at 0x1a1a605080>"
      ]
     },
     "execution_count": 13,
     "metadata": {},
     "output_type": "execute_result"
    },
    {
     "data": {
      "image/png": "[encoded data removed]",
      "text/plain": [
       "<Figure size 432x288 with 1 Axes>"
      ]
     },
     "metadata": {
      "needs_background": "light"
     },
     "output_type": "display_data"
    }
   ],
   "source": [
    "y = stats.norm.rvs(size = 5)\n",
    "y1 = stats.norm.rvs(2,3,5)\n",
    "x = np.arange(0,5)\n",
    "plt.scatter(x, y)\n"
   ]
  },
  {
   "cell_type": "code",
   "execution_count": 53,
   "metadata": {},
   "outputs": [
    {
     "name": "stdout",
     "output_type": "stream",
     "text": [
      "Jim\n"
     ]
    }
   ],
   "source": [
    "dct={'James': 1, 'Jim': 2}\n",
    "if 'Jim' in dct:\n",
    "    del dct['Jim']\n",
    "    print('Jim')"
   ]
  },
  {
   "cell_type": "code",
   "execution_count": null,
   "metadata": {},
   "outputs": [],
   "source": []
  },
  {
   "cell_type": "code",
   "execution_count": 1,
   "metadata": {},
   "outputs": [
    {
     "name": "stdout",
     "output_type": "stream",
     "text": [
      "[[-3  6 -1  1 -7]\n",
      " [ 1 -2  2  3 -1]\n",
      " [ 2 -4  5  8 -4]]\n",
      "[[1. 0. 0.]\n",
      " [0. 0. 1.]\n",
      " [0. 1. 0.]]\n",
      "[[ 1.          0.          0.        ]\n",
      " [-0.66666667  1.          0.        ]\n",
      " [-0.33333333  0.5         1.        ]]\n",
      "[[-3.00000000e+00  6.00000000e+00 -1.00000000e+00  1.00000000e+00\n",
      "  -7.00000000e+00]\n",
      " [ 0.00000000e+00 -2.22044605e-16  4.33333333e+00  8.66666667e+00\n",
      "  -8.66666667e+00]\n",
      " [ 0.00000000e+00  0.00000000e+00 -5.00000000e-01 -1.00000000e+00\n",
      "   1.00000000e+00]]\n"
     ]
    }
   ],
   "source": []
  },
  {
   "cell_type": "code",
   "execution_count": null,
   "metadata": {},
   "outputs": [],
   "source": []
  }
 ],
 "metadata": {
  "kernelspec": {
   "display_name": "Python 3",
   "language": "python",
   "name": "python3"
  },
  "language_info": {
   "codemirror_mode": {
    "name": "ipython",
    "version": 3
   },
   "file_extension": ".py",
   "mimetype": "text/x-python",
   "name": "python",
   "nbconvert_exporter": "python",
   "pygments_lexer": "ipython3",
   "version": "3.7.1"
  }
 },
 "nbformat": 4,
 "nbformat_minor": 2
}
