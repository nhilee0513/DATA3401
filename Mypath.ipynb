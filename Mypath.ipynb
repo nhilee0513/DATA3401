{
 "cells": [
  {
   "cell_type": "markdown",
   "metadata": {},
   "source": [
    "# My Path - 04/20/2020"
   ]
  },
  {
   "cell_type": "markdown",
   "metadata": {},
   "source": [
    "# Nhi Le"
   ]
  },
  {
   "cell_type": "markdown",
   "metadata": {},
   "source": [
    "### My to do list:\n",
    "\n",
    "_ Monday (04/20): \n",
    "- Classes from 1PM - 4PM\n",
    "- Doing homework for data 2 and stat class\n",
    "- I have a problem with the flatcity homework. I can imagine what I wanna do, but when I'm starting to write it down, it does not make any sense.\n",
    "- Sending an email for Dr. King for asking a question. \n",
    "- Read more code on Zybook.\n",
    "- Discuss with a classmate about how they are doing on the flatcity homework.\n",
    "- I already discuss with Oscar last week and he asking about doing code in R rather than change to python. But I wanna learn more about doing the work on Python code. \n",
    "\n",
    "\n",
    "_ Tuesday (04/21): \n",
    "- Classes from 9:30AM - 1PM, then 3:30PM - 5:15PM\n",
    "- Homework due for STAT and Math classes\n",
    "\n",
    "\n",
    "_ Wednesday (04/22): \n",
    "- Classes from 1PM - 4PM\n",
    "\n",
    "\n",
    "_ Thursday (04/23):\n",
    "- Classes from 9:30AM - 1PM, then 3:30PM - 5:15PM\n",
    "- Meeting from 1PM - 2:45PM\n",
    "\n",
    "\n",
    "_ Friday (04/24): \n",
    "- Meeting from 11AM - 12PM\n",
    "\n",
    "\n",
    "_ This week work:\n",
    "- Working on the final project for the stat.\n",
    "- Working on the homework for all classes. "
   ]
  },
  {
   "cell_type": "code",
   "execution_count": null,
   "metadata": {},
   "outputs": [],
   "source": []
  }
 ],
 "metadata": {
  "kernelspec": {
   "display_name": "Python 3",
   "language": "python",
   "name": "python3"
  },
  "language_info": {
   "codemirror_mode": {
    "name": "ipython",
    "version": 3
   },
   "file_extension": ".py",
   "mimetype": "text/x-python",
   "name": "python",
   "nbconvert_exporter": "python",
   "pygments_lexer": "ipython3",
   "version": "3.7.4"
  }
 },
 "nbformat": 4,
 "nbformat_minor": 2
}
