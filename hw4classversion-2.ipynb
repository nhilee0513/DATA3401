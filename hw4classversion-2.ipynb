{
 "cells": [
  {
   "cell_type": "markdown",
   "metadata": {},
   "source": [
    "## hw4 due 11:59pm Thu 19 March\n",
    "\n",
    "#### Submit steps 1-8 for a grade of up to 100 points or submit steps 7 and 8 for a grade of up to 130 points. \n",
    "\n",
    "### Instructions (like whiteboard version of 3 March, but with more words) \n",
    "\n",
    "1. Choose 3 distributions from 3 different families (they can't all be normal or uniform or beta or whatever). <br> Choosing a dist is the same as choosing a pdf, so let's call them $f_1, f_2, f_3$.    \n",
    "2. (10 points) From each $f_i$ generate a sample of $n=12$ data points.  Call the samples $dat_1, dat_2, dat_3$.  <br>\n",
    "Code like this:  **dati = stats.f_i.rvs(..., size = 12)**, where $f_i$ and ... depend on your dist.  \n",
    "3.  For $dat_1$ use **putaboxonit(x, h, ...)**  to produce an estimate $\\hat{f_1}$ of the mother pdf $f_1$. Plot it to see how it looks. Experiment with different choices of $h$ to see how it changes.   Nothing to turn in here, just experiment. <br> \n",
    "We did this in class with $n=8$ from $beta(5,2)$. We made 8 calls to **putaboxonit(x, h)**, we got 8 boxes, we plotted them on top of each other and it was a mess, then we ADDED the boxes together and called the result **yout**. The plot of **yout** looked like a distribution; another way to say it is $\\hat f =$ **yout** is an estimate of the mother pdf $f$ which was $beta(5,2)$.  Here I'm asking you to produce (and plot) **yout** using $dat_1$ and different values of $h$. Each **yout** is an estimate of your pdf $f_1$.  \n",
    "4.  (30 points) From your experiments, keep 3 versions of $\\hat f_1$:  one where $h$ is too small (undersmoothed, boxes don't overlap much), one where $h$ is too large (oversmoothed, boxes overlap like crazy), and one where $h$ looks just right.  Let's call them $\\hat f_1^u, \\hat f_1^o, \\hat f_1^*$.  Deliver a single plot showing these three curves AND $f_1$ and the data $dat_1$ all together.  Legends are good on plots like these. \n",
    "5.  (10 points) Repeat steps 3 and 4 for $dat_2$ and $f_2$. \n",
    "6.  (10 points) Repeat steps 3 and 4 for $dat_3$ and $f_3$. \n",
    "7.  (30 points) Repeat steps 2 - 6 with $n=40$ instead of $n=12$.  \n",
    "8.  (10 points) There's no reason we have to use boxes;  all of this could work with a different shape.  Think a little and write a function called **putabumponit(x,h,...)**.  The ... means there might be other inputs.  The whiteboard instructions said \"write and deploy\".  By \"deploy\" I mean use your function enough to show that it works.  A plot might be good. \n",
    "9.  (120 points) Complete steps 2 - 7 using **putabumponit()** instead of **putaboxonit()**.  \n"
   ]
  },
  {
   "cell_type": "code",
   "execution_count": 2,
   "metadata": {},
   "outputs": [],
   "source": [
    "# the usual starting block\n",
    "# added pandas\n",
    "import numpy as np \n",
    "%matplotlib inline   \n",
    "import matplotlib.pyplot as plt\n",
    "import seaborn as sns\n",
    "plt.style.use('fivethirtyeight')\n",
    "import math\n",
    "from scipy import stats\n",
    "import pandas as pd\n",
    "\n",
    "from IPython.core.interactiveshell import InteractiveShell\n",
    "InteractiveShell.ast_node_interactivity = 'all'  \n",
    "# asking jupyter to show all output on execution, not just the final value\n",
    "# other options:  instead of \"all\"  use \"last_expr\" or \"none\""
   ]
  },
  {
   "cell_type": "code",
   "execution_count": 3,
   "metadata": {},
   "outputs": [
    {
     "data": {
      "text/plain": [
       "array([ 0.63627551,  0.23970313,  1.31550183,  1.10660165,  0.32426279,\n",
       "        0.99304359,  0.07396175,  0.32426925,  1.68890441,  0.78874956,\n",
       "        1.41812606, -0.01145019])"
      ]
     },
     "execution_count": 3,
     "metadata": {},
     "output_type": "execute_result"
    }
   ],
   "source": [
    "dat1=stats.norm.rvs(loc=0, scale=1, size=12)\n",
    "dat1"
   ]
  },
  {
   "cell_type": "code",
   "execution_count": 4,
   "metadata": {},
   "outputs": [],
   "source": [
    "def putaboxonit(datvec, h):\n",
    "    #xvec=np.arange(-0.2,1.2,0.01)\n",
    "    xmin = datvec.min()\n",
    "    xmax = datvec.max()\n",
    "    nobs = len(datvec)\n",
    "    xvec = np.arange(xmin - 2*h, xmax + 2*h, .001)\n",
    "    \n",
    "    yvec = np.zeros(len(xvec))\n",
    "    for i in datvec:\n",
    "        yvec += stats.uniform.pdf(xvec,i-h,2*h)\n",
    "    yvec = 1/nobs * yvec\n",
    "    \n",
    "    plt.ylim(top = 1.6 * yvec.max())\n",
    "    plt.plot(xvec, yvec, c='orangered')\n",
    "    return yvec, xvec"
   ]
  },
  {
   "cell_type": "code",
   "execution_count": 5,
   "metadata": {},
   "outputs": [
    {
     "data": {
      "text/plain": [
       "array([0.61168644, 0.0553927 , 0.09266635, 0.35601233, 0.35294437,\n",
       "       0.69467702, 0.92127099, 0.22054904, 0.15982675, 0.88747069,\n",
       "       0.63976485, 0.74138897])"
      ]
     },
     "execution_count": 5,
     "metadata": {},
     "output_type": "execute_result"
    }
   ],
   "source": [
    "dat2=stats.uniform.rvs(loc=0, scale=1, size=12)\n",
    "dat2"
   ]
  },
  {
   "cell_type": "code",
   "execution_count": 6,
   "metadata": {},
   "outputs": [
    {
     "data": {
      "text/plain": [
       "array([0.80144752, 0.95658048, 0.80016872, 0.83565129, 0.80170544,\n",
       "       0.92099971, 0.73853805, 0.52874015, 0.41617311, 0.78679712,\n",
       "       0.8717707 , 0.88890826])"
      ]
     },
     "execution_count": 6,
     "metadata": {},
     "output_type": "execute_result"
    }
   ],
   "source": [
    "dat3=stats.beta.rvs(5,2,loc=0, scale=1, size=12)\n",
    "dat3"
   ]
  },
  {
   "cell_type": "code",
   "execution_count": null,
   "metadata": {},
   "outputs": [],
   "source": []
  },
  {
   "cell_type": "markdown",
   "metadata": {},
   "source": [
    "## Functions in python -- the basic template\n",
    "Python functions have this structure: \n",
    "\n",
    "**def** *functionname*(arg1, arg2, ...)**\\:** <br>\n",
    "&ensp;&ensp;&ensp;    \"\"\" docstring \"\"\" <br>\n",
    "&ensp;&ensp;&ensp;        code<br>\n",
    "&ensp;&ensp;&ensp;        more code <br>\n",
    "&ensp;&ensp;&ensp;        ...<br>\n",
    "&ensp;&ensp;&ensp;        excellent code <br>\n",
    "&ensp;&ensp;&ensp;        *value* = ... <br>\n",
    "&ensp;&ensp;&ensp;        **return** *value*<br>"
   ]
  },
  {
   "cell_type": "markdown",
   "metadata": {},
   "source": [
    "\n",
    "## Example:  write a function to make python's unif.rvs() function work like R's runif()"
   ]
  },
  {
   "cell_type": "code",
   "execution_count": 7,
   "metadata": {},
   "outputs": [],
   "source": [
    "def myrunif(n, a, b ):\n",
    "    \"\"\" reparameterizing python's uniform random number generator \n",
    "        to make it behavelike R's runif() function\n",
    "        n = number of random numbes to generate\n",
    "        a,b = left and right boundaries of uniform dist\n",
    "    \"\"\"\n",
    "    leftboundary  = a\n",
    "    width  = b - a\n",
    "    val = stats.uniform.rvs(loc = leftboundary, scale = width, size = n)\n",
    "    return val "
   ]
  },
  {
   "cell_type": "markdown",
   "metadata": {},
   "source": [
    "## test the function"
   ]
  },
  {
   "cell_type": "code",
   "execution_count": 8,
   "metadata": {},
   "outputs": [
    {
     "data": {
      "text/plain": [
       "array([0.50041312, 0.02092258, 0.69556468, 0.18820251, 0.26905748])"
      ]
     },
     "execution_count": 8,
     "metadata": {},
     "output_type": "execute_result"
    },
    {
     "data": {
      "text/plain": [
       "array([15.67746746, 18.47300307, 11.16704644, 12.42417498, 11.90944603])"
      ]
     },
     "execution_count": 8,
     "metadata": {},
     "output_type": "execute_result"
    },
    {
     "data": {
      "text/plain": [
       "0.08614981612615757"
      ]
     },
     "execution_count": 8,
     "metadata": {},
     "output_type": "execute_result"
    },
    {
     "data": {
      "text/plain": [
       "99.99998500945844"
      ]
     },
     "execution_count": 8,
     "metadata": {},
     "output_type": "execute_result"
    }
   ],
   "source": [
    "myrunif(5,0,1)\n",
    "myrunif(5, 10, 20)\n",
    "myrunif(5000, 0, 100).min()\n",
    "bigvec = myrunif(5000000, 0, 100)\n",
    "bigvec.max()"
   ]
  },
  {
   "cell_type": "markdown",
   "metadata": {},
   "source": [
    "### generate a random value from beta(5,2)\n",
    "### on Tuesday we got .406 so we use x = .406 below "
   ]
  },
  {
   "cell_type": "code",
   "execution_count": 9,
   "metadata": {},
   "outputs": [
    {
     "data": {
      "text/plain": [
       "array([0.713084  , 0.91816605, 0.82171086, 0.69385515, 0.72377321,\n",
       "       0.55872917, 0.51790998, 0.59749438, 0.75103922, 0.76124782,\n",
       "       0.67075644, 0.92577856])"
      ]
     },
     "execution_count": 9,
     "metadata": {},
     "output_type": "execute_result"
    }
   ],
   "source": [
    "stats.beta.rvs(5, 2, size =12)"
   ]
  },
  {
   "cell_type": "markdown",
   "metadata": {},
   "source": [
    "Plotting a box centered on x = .406, width = 2h, area = 1. \n",
    "Later we turn this into a function.  "
   ]
  },
  {
   "cell_type": "code",
   "execution_count": 21,
   "metadata": {},
   "outputs": [
    {
     "data": {
      "text/plain": [
       "(0.0, 4)"
      ]
     },
     "execution_count": 21,
     "metadata": {},
     "output_type": "execute_result"
    },
    {
     "data": {
      "text/plain": [
       "[<matplotlib.lines.Line2D at 0x1a242e5190>]"
      ]
     },
     "execution_count": 21,
     "metadata": {},
     "output_type": "execute_result"
    },
    {
     "data": {
      "image/png": "[encoded data removed]",
      "text/plain": [
       "<Figure size 432x288 with 1 Axes>"
      ]
     },
     "metadata": {
      "needs_background": "light"
     },
     "output_type": "display_data"
    }
   ],
   "source": [
    "plt.ylim(top = 4)\n",
    "x = .406  \n",
    "h = .2\n",
    "xvec=np.arange(-0.2,1.2,0.001) # we choose this xvec because we KNOW h=.2 and we KNOW beta dist is between 0 and 1\n",
    "yvec=stats.uniform.pdf(xvec, x-h, 2*h) \n",
    "# parameters (xvalues, loc = left boundary, scale = width )\n",
    "plt.plot(xvec, yvec, c='orangered')"
   ]
  },
  {
   "cell_type": "code",
   "execution_count": 9,
   "metadata": {},
   "outputs": [
    {
     "data": {
      "text/plain": [
       "Ellipsis"
      ]
     },
     "execution_count": 9,
     "metadata": {},
     "output_type": "execute_result"
    }
   ],
   "source": [
    "### now write the same code as a function\n",
    "### inputs are x and h\n",
    "### function name = putaboxonit\n",
    "### calling putaboxonit(.406, .2) should produce same plot as above\n",
    "### your function should return yvec\n",
    "### add inputs for top, color, etc. if you want \n",
    "..."
   ]
  },
  {
   "cell_type": "code",
   "execution_count": 10,
   "metadata": {},
   "outputs": [
    {
     "data": {
      "text/plain": [
       "numpy.ndarray"
      ]
     },
     "execution_count": 10,
     "metadata": {},
     "output_type": "execute_result"
    },
    {
     "data": {
      "text/plain": [
       "array([0.        , 0.        , 0.        , 0.        , 0.        ,\n",
       "       0.        , 0.        , 0.        , 0.        , 0.        ,\n",
       "       0.        , 0.        , 0.        , 0.        , 0.        ,\n",
       "       0.        , 0.        , 0.        , 0.        , 0.        ,\n",
       "       0.        , 0.        , 0.        , 0.        , 0.        ,\n",
       "       0.        , 0.        , 0.        , 0.        , 0.        ,\n",
       "       0.        , 0.        , 0.        , 0.        , 0.        ,\n",
       "       0.        , 0.        , 0.        , 0.        , 0.        ,\n",
       "       0.        , 1.91834154, 2.16881219, 2.28291805, 2.35747129,\n",
       "       2.41235201, 2.45525949, 2.49001715, 2.51880963, 2.54300403,\n",
       "       2.56351192, 2.58096977, 2.59583749, 2.60845584, 2.61908176,\n",
       "       2.62791103, 2.63509329, 2.64074215, 2.64494217, 2.64775362,\n",
       "       2.64921562, 2.64934817, 2.64815307, 2.64561401, 2.64169581,\n",
       "       2.63634265, 2.62947514, 2.62098597, 2.61073339, 2.59853186,\n",
       "       2.58413818, 2.56723068, 2.54737699, 2.52398211, 2.49620042,\n",
       "       2.46277683, 2.42173446, 2.36968599, 2.30003745, 2.19682536,\n",
       "       1.99671077, 0.        , 0.        , 0.        , 0.        ,\n",
       "       0.        , 0.        , 0.        , 0.        , 0.        ,\n",
       "       0.        , 0.        , 0.        , 0.        , 0.        ,\n",
       "       0.        , 0.        , 0.        , 0.        , 0.        ,\n",
       "       0.        , 0.        , 0.        , 0.        , 0.        ,\n",
       "       0.        , 0.        , 0.        , 0.        , 0.        ,\n",
       "       0.        , 0.        , 0.        , 0.        , 0.        ,\n",
       "       0.        , 0.        , 0.        , 0.        , 0.        ,\n",
       "       0.        , 0.        , 0.        , 0.        , 0.        ,\n",
       "       0.        , 0.        , 0.        , 0.        , 0.        ,\n",
       "       0.        , 0.        , 0.        , 0.        , 0.        ,\n",
       "       0.        , 0.        , 0.        , 0.        , 0.        ])"
      ]
     },
     "execution_count": 10,
     "metadata": {},
     "output_type": "execute_result"
    },
    {
     "data": {
      "image/png": "[encoded data removed]",
      "text/plain": [
       "<Figure size 432x288 with 1 Axes>"
      ]
     },
     "metadata": {
      "needs_background": "light"
     },
     "output_type": "display_data"
    }
   ],
   "source": [
    "def putabumponit(x,h):\n",
    "    xvec=np.arange(-0.2,1.2,0.01)\n",
    "    yvec=stats.beta.pdf(xvec,1.1,1.1, x-h, 2*h) \n",
    "    # parameters (xvalues, loc = left boundary, scale = width )\n",
    "    plt.ylim(top = 1.6 * yvec.max())\n",
    "    plt.plot(xvec, yvec, c='orangered')\n",
    "    return yvec\n",
    "\n",
    "out = putabumponit(.406, .2)\n",
    "type(out)\n",
    "out"
   ]
  },
  {
   "cell_type": "markdown",
   "metadata": {},
   "source": [
    "## test your function with different values of x and h ..."
   ]
  },
  {
   "cell_type": "code",
   "execution_count": 11,
   "metadata": {},
   "outputs": [
    {
     "data": {
      "image/png": "[encoded data removed]",
      "text/plain": [
       "<Figure size 432x288 with 1 Axes>"
      ]
     },
     "metadata": {
      "needs_background": "light"
     },
     "output_type": "display_data"
    }
   ],
   "source": [
    "out = putabumponit(.406, .1)\n",
    "out = putabumponit(.406, .2)\n",
    "out = putabumponit(.406, .3)\n",
    "out = putabumponit(.406, .4) # run them in the opposite order would frame it better"
   ]
  },
  {
   "cell_type": "code",
   "execution_count": 12,
   "metadata": {},
   "outputs": [
    {
     "data": {
      "image/png": "[encoded data removed]",
      "text/plain": [
       "<Figure size 432x288 with 1 Axes>"
      ]
     },
     "metadata": {
      "needs_background": "light"
     },
     "output_type": "display_data"
    }
   ],
   "source": [
    "out = putabumponit(.406, .4)\n",
    "out = putabumponit(.406, .3)\n",
    "out = putabumponit(.406, .2)\n",
    "out = putabumponit(.406, .1)"
   ]
  },
  {
   "cell_type": "code",
   "execution_count": 13,
   "metadata": {},
   "outputs": [
    {
     "data": {
      "image/png": "[encoded data removed]",
      "text/plain": [
       "<Figure size 432x288 with 1 Axes>"
      ]
     },
     "metadata": {
      "needs_background": "light"
     },
     "output_type": "display_data"
    }
   ],
   "source": [
    "out = putabumponit(.206, .4) # now try different x values\n",
    "out = putabumponit(.406, .3)\n",
    "out = putabumponit(.606, .2)\n",
    "out = putabumponit(.806, .1)"
   ]
  },
  {
   "cell_type": "markdown",
   "metadata": {},
   "source": [
    "## next ...\n",
    "Generate n=8 values from beta(5,2). \n",
    "\n",
    "Run putaboxonit() for each one to get 8 yvecs. \n",
    "\n",
    "Add these yvecs together.   Use a loop if you want.  In class we didn't. "
   ]
  },
  {
   "cell_type": "code",
   "execution_count": 15,
   "metadata": {},
   "outputs": [
    {
     "data": {
      "text/plain": [
       "array([0.72525764, 0.90020513, 0.80555402, 0.80399598, 0.90142218,\n",
       "       0.81162288, 0.78307385, 0.73896073])"
      ]
     },
     "execution_count": 15,
     "metadata": {},
     "output_type": "execute_result"
    }
   ],
   "source": [
    "xdata = stats.beta.rvs(5,2, size = 8)\n",
    "xdata"
   ]
  },
  {
   "cell_type": "code",
   "execution_count": 16,
   "metadata": {},
   "outputs": [
    {
     "data": {
      "text/plain": [
       "0.7252576402116636"
      ]
     },
     "execution_count": 16,
     "metadata": {},
     "output_type": "execute_result"
    },
    {
     "data": {
      "text/plain": [
       "0.9002051274843833"
      ]
     },
     "execution_count": 16,
     "metadata": {},
     "output_type": "execute_result"
    }
   ],
   "source": [
    "xdata[0]\n",
    "xdata[1]"
   ]
  },
  {
   "cell_type": "code",
   "execution_count": 17,
   "metadata": {},
   "outputs": [
    {
     "data": {
      "image/png": "[encoded data removed]",
      "text/plain": [
       "<Figure size 432x288 with 1 Axes>"
      ]
     },
     "metadata": {
      "needs_background": "light"
     },
     "output_type": "display_data"
    }
   ],
   "source": [
    "yout = putaboxonit(xdata[0], .2)\n",
    "yout += putaboxonit(xdata[1], .2)\n",
    "yout += putaboxonit(xdata[2], .2)\n",
    "yout += putaboxonit(xdata[3], .2)\n",
    "yout += putaboxonit(xdata[4], .2)\n",
    "yout += putaboxonit(xdata[5], .2)\n",
    "yout += putaboxonit(xdata[6], .2)\n",
    "yout += putaboxonit(xdata[7], .2)\n",
    "# we see the boxes on top of each other"
   ]
  },
  {
   "cell_type": "markdown",
   "metadata": {},
   "source": [
    "### Now plot yout versus xvec "
   ]
  },
  {
   "cell_type": "code",
   "execution_count": 18,
   "metadata": {},
   "outputs": [
    {
     "data": {
      "text/plain": [
       "[<matplotlib.lines.Line2D at 0x1a17a11610>]"
      ]
     },
     "execution_count": 18,
     "metadata": {},
     "output_type": "execute_result"
    },
    {
     "data": {
      "text/plain": [
       "<matplotlib.collections.PathCollection at 0x1a17a11350>"
      ]
     },
     "execution_count": 18,
     "metadata": {},
     "output_type": "execute_result"
    },
    {
     "data": {
      "text/plain": [
       "[<matplotlib.lines.Line2D at 0x1a17a11a50>]"
      ]
     },
     "execution_count": 18,
     "metadata": {},
     "output_type": "execute_result"
    },
    {
     "data": {
      "image/png": "[encoded data removed]",
      "text/plain": [
       "<Figure size 432x288 with 1 Axes>"
      ]
     },
     "metadata": {
      "needs_background": "light"
     },
     "output_type": "display_data"
    }
   ],
   "source": [
    "xvec=np.arange(-0.2,1.2,0.01)  # same grid as in the function\n",
    "plt.plot(xvec, yout, c = 'orangered')\n",
    "plt.scatter(xdata, np.zeros(8)) # plotting the data values on x axis, very similar to a rugplot\n",
    "plt.plot(xvec, stats.beta.pdf(xvec, 5, 2), c = 'blue') # plot true pdf (the mother dist that generated the data)"
   ]
  },
  {
   "cell_type": "markdown",
   "metadata": {},
   "source": [
    "### Area under orange curve = 8 because we added up 8 boxes.\n",
    "\n",
    "### Area under blue curve = 1 because it is beta(5,2) pdf\n",
    "\n",
    "### How to make orange curve have area = 1?  Divide yout by 8.  "
   ]
  },
  {
   "cell_type": "code",
   "execution_count": 19,
   "metadata": {},
   "outputs": [
    {
     "data": {
      "text/plain": [
       "[<matplotlib.lines.Line2D at 0x1a17702150>]"
      ]
     },
     "execution_count": 19,
     "metadata": {},
     "output_type": "execute_result"
    },
    {
     "data": {
      "text/plain": [
       "<matplotlib.collections.PathCollection at 0x1a178fd650>"
      ]
     },
     "execution_count": 19,
     "metadata": {},
     "output_type": "execute_result"
    },
    {
     "data": {
      "text/plain": [
       "[<matplotlib.lines.Line2D at 0x1a17a22250>]"
      ]
     },
     "execution_count": 19,
     "metadata": {},
     "output_type": "execute_result"
    },
    {
     "data": {
      "image/png": "[encoded data removed]",
      "text/plain": [
       "<Figure size 432x288 with 1 Axes>"
      ]
     },
     "metadata": {
      "needs_background": "light"
     },
     "output_type": "display_data"
    }
   ],
   "source": [
    "xvec=np.arange(-0.2,1.2,0.01)  \n",
    "plt.plot(xvec, 1/len(xdata) * yout, c = 'orangered')\n",
    "plt.scatter(xdata, np.zeros(8))\n",
    "plt.plot(xvec, stats.beta.pdf(xvec, 5, 2), c = 'blue')"
   ]
  },
  {
   "cell_type": "markdown",
   "metadata": {},
   "source": [
    "### Now the curves have the same area, both = 1\n",
    "\n",
    "### Orange curve is an estimate of the blue curve, sometimes too high, sometimes too low, and in few places just right "
   ]
  },
  {
   "cell_type": "code",
   "execution_count": 25,
   "metadata": {},
   "outputs": [
    {
     "data": {
      "text/plain": [
       "array([0.37723988, 2.96275387, 0.56185448, 0.2538259 , 0.68477047,\n",
       "       1.05899834, 0.34332359, 1.27639146, 1.39567293, 0.29953613,\n",
       "       2.64676927, 1.99679557])"
      ]
     },
     "execution_count": 25,
     "metadata": {},
     "output_type": "execute_result"
    },
    {
     "data": {
      "text/plain": [
       "0.2538259014172807"
      ]
     },
     "execution_count": 25,
     "metadata": {},
     "output_type": "execute_result"
    },
    {
     "data": {
      "text/plain": [
       "2.9627538682388197"
      ]
     },
     "execution_count": 25,
     "metadata": {},
     "output_type": "execute_result"
    }
   ],
   "source": [
    "# suppose I have dat1 = [1.2, 3.33, -2.444, 9.982, 3.14159, ...]\n",
    "dat1 = stats.expon.rvs(.1, size = 12)\n",
    "dat1\n",
    "datmin = 0 # who cares about the exact value of dat1.min()\n",
    "datmax = dat1.max() # definitely care about this\n",
    "\n"
   ]
  },
  {
   "cell_type": "code",
   "execution_count": 36,
   "metadata": {},
   "outputs": [],
   "source": [
    "def putaboxonit(datvec, h):\n",
    "    #xvec=np.arange(-0.2,1.2,0.01)\n",
    "    xmin = datvec.min()\n",
    "    xmax = datvec.max()\n",
    "    nobs = len(datvec)\n",
    "    xvec = np.arange(xmin - 2*h, xmax + 2*h, .001)\n",
    "    \n",
    "    yvec = np.zeros(len(xvec))\n",
    "    for i in datvec:\n",
    "        yvec += stats.uniform.pdf(xvec,i-h,2*h)\n",
    "    yvec = 1/nobs * yvec\n",
    "    \n",
    "    plt.ylim(top = 1.6 * yvec.max())\n",
    "    plt.plot(xvec, yvec, c='orangered')\n",
    "    return yvec, xvec\n",
    "    "
   ]
  },
  {
   "cell_type": "code",
   "execution_count": 34,
   "metadata": {},
   "outputs": [
    {
     "data": {
      "text/plain": [
       "[<matplotlib.lines.Line2D at 0x1a20c94f50>]"
      ]
     },
     "execution_count": 34,
     "metadata": {},
     "output_type": "execute_result"
    },
    {
     "data": {
      "text/plain": [
       "<matplotlib.collections.PathCollection at 0x1a20cc9790>"
      ]
     },
     "execution_count": 34,
     "metadata": {},
     "output_type": "execute_result"
    },
    {
     "data": {
      "image/png": "[encoded data removed]",
      "text/plain": [
       "<Figure size 432x288 with 1 Axes>"
      ]
     },
     "metadata": {},
     "output_type": "display_data"
    }
   ],
   "source": [
    "out = putaboxonit(dat1, .3)\n",
    "xvec = np.arange(-1, 4, .001)\n",
    "plt.plot(xvec, stats.expon.pdf(xvec, .1), c='blue')\n",
    "plt.scatter(dat1, 0*dat1, c='green')"
   ]
  },
  {
   "cell_type": "code",
   "execution_count": 51,
   "metadata": {},
   "outputs": [
    {
     "data": {
      "text/plain": [
       "array([ -2.22950969,  -4.41212281,  -1.92711279,  -7.69539973,\n",
       "       -12.77489508,  -2.40003895,  -0.39506084,   2.79253462,\n",
       "        -6.78457469,  -3.52931964,  -2.8748444 ,   1.297831  ,\n",
       "         2.72273011,  -0.62833629,   8.19885506,  -1.09608704,\n",
       "         1.14213798,   1.82671056,   2.57891533,   1.60417544,\n",
       "        -0.11068004,   3.53396843,   0.10925151,  13.47084849,\n",
       "         7.81160064,  -4.63278417,  -2.49227631,   9.83916374,\n",
       "         1.80468936,   3.84633922,   3.42637408,   0.18396466,\n",
       "        -1.66123332,  -3.91881268,  -7.69010721,   4.32216115,\n",
       "         5.77580786,   6.47777586,  -7.42942035,   2.6740276 ])"
      ]
     },
     "execution_count": 51,
     "metadata": {},
     "output_type": "execute_result"
    }
   ],
   "source": [
    "dat1 = stats.norm.rvs(0, 5, size = 40)\n",
    "dat1"
   ]
  },
  {
   "cell_type": "code",
   "execution_count": 58,
   "metadata": {},
   "outputs": [
    {
     "data": {
      "text/plain": [
       "array([ -2.22950969,  -4.41212281,  -1.92711279,  -7.69539973,\n",
       "       -12.77489508,  -2.40003895,  -0.39506084,   2.79253462,\n",
       "        -6.78457469,  -3.52931964,  -2.8748444 ,   1.297831  ,\n",
       "         2.72273011,  -0.62833629,   8.19885506,  -1.09608704,\n",
       "         1.14213798,   1.82671056,   2.57891533,   1.60417544,\n",
       "        -0.11068004,   3.53396843,   0.10925151,  13.47084849,\n",
       "         7.81160064,  -4.63278417,  -2.49227631,   9.83916374,\n",
       "         1.80468936,   3.84633922,   3.42637408,   0.18396466,\n",
       "        -1.66123332,  -3.91881268,  -7.69010721,   4.32216115,\n",
       "         5.77580786,   6.47777586,  -7.42942035,   2.6740276 ])"
      ]
     },
     "execution_count": 58,
     "metadata": {},
     "output_type": "execute_result"
    },
    {
     "data": {
      "text/plain": [
       "[<matplotlib.lines.Line2D at 0x1a2f771090>]"
      ]
     },
     "execution_count": 58,
     "metadata": {},
     "output_type": "execute_result"
    },
    {
     "data": {
      "text/plain": [
       "<matplotlib.collections.PathCollection at 0x1a2f78a1d0>"
      ]
     },
     "execution_count": 58,
     "metadata": {},
     "output_type": "execute_result"
    },
    {
     "data": {
      "image/png": "[encoded data removed]",
      "text/plain": [
       "<Figure size 432x288 with 1 Axes>"
      ]
     },
     "metadata": {
      "needs_background": "light"
     },
     "output_type": "display_data"
    }
   ],
   "source": [
    "dat1\n",
    "datmin = 0 # who cares about the exact value of dat1.min()\n",
    "datmax = dat1.max() # definitely care about this\n",
    "h=2\n",
    "out = putaboxonit(dat1, h)\n",
    "xvec = np.arange(-12, 12, .001)\n",
    "plt.plot(xvec, stats.norm.pdf(xvec, 0, 5), c='blue')\n",
    "plt.scatter(dat1, 0*dat1, c='green')"
   ]
  },
  {
   "cell_type": "code",
   "execution_count": null,
   "metadata": {},
   "outputs": [],
   "source": []
  }
 ],
 "metadata": {
  "kernelspec": {
   "display_name": "Python 3",
   "language": "python",
   "name": "python3"
  },
  "language_info": {
   "codemirror_mode": {
    "name": "ipython",
    "version": 3
   },
   "file_extension": ".py",
   "mimetype": "text/x-python",
   "name": "python",
   "nbconvert_exporter": "python",
   "pygments_lexer": "ipython3",
   "version": "3.7.4"
  }
 },
 "nbformat": 4,
 "nbformat_minor": 2
}
