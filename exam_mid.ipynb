{
 "cells": [
  {
   "cell_type": "markdown",
   "metadata": {},
   "source": [
    "# DATA 3401 midterm exam"
   ]
  },
  {
   "cell_type": "markdown",
   "metadata": {},
   "source": [
    "## 0. Instructions\n",
    "Complete this Jupyter notebook and upload it to Blackboard by 2:45pm.  \n",
    "\n",
    "You can use any resources available on your laptop (textbook, notes, homework, google, etc), but you may not communicate with any person (in class or otherwise). \n",
    "\n",
    "Before you leave check in with me to verify that your exam has uploaded.   "
   ]
  },
  {
   "cell_type": "code",
   "execution_count": 3,
   "metadata": {},
   "outputs": [],
   "source": [
    "from datascience import *\n",
    "import numpy as np\n",
    "\n",
    "%matplotlib inline\n",
    "import matplotlib\n",
    "import matplotlib.pyplot as plots\n",
    "plots.style.use('fivethirtyeight')"
   ]
  },
  {
   "cell_type": "markdown",
   "metadata": {},
   "source": [
    "## 1. Experiments"
   ]
  },
  {
   "cell_type": "markdown",
   "metadata": {},
   "source": [
    "**Artemisinin** is a chemical used in drugs which fight malaria. In 2013, chemical engineering professor Jay Keasling  discovered a synthetic version of artemisinin.  \n",
    "\n",
    "A group of researchers and statisticians tested the effectiveness of this new chemical.  They ran an experiment with a random sample of 500 malaria patients.  Each patient was randomly assigned to take either the artemisinin drug or a placebo pill.  The results of the study showed that among patients who took the drug, the proportion who recovered from malaria was much larger than among those who took the placebo.\n",
    "\n",
    "**Question 1.1:** (5 pts)  Is this a randomized comparative experiment?  Explain why or why not. Write your answer in the cell below."
   ]
  },
  {
   "cell_type": "markdown",
   "metadata": {},
   "source": [
    "***Write your answer here***\n",
    "\n",
    "Yes. It is randomized comparative experiment, because the patient was randomly assigned"
   ]
  },
  {
   "cell_type": "markdown",
   "metadata": {},
   "source": [
    "**Question 1.2:** (5 pts) Should the researchers conclude that the drug **causes** an increase in recovery rate among malaria patients?"
   ]
  },
  {
   "cell_type": "markdown",
   "metadata": {},
   "source": [
    "***Write your answer here***\n",
    "\n",
    "Yes"
   ]
  },
  {
   "cell_type": "markdown",
   "metadata": {},
   "source": [
    "## 2.  Dice, simulation, histogram\n",
    "Suppose we have two fair dice, one red and one blue.  \n",
    "\n",
    "Let random variable $D_1$ represent the outcome of the red die, and let $D_2$ represent the blue die.   \n",
    "\n",
    "Consider the following trial: \n",
    "1. Roll the two dice.  \n",
    "2. If $D_1 + D_2 = 7$, record the trial as a SUCCESS.  \n",
    "3. If the sum is not 7, roll the blue die again, and recompute the sum $D_1 + D_2$.  \n",
    "4. If the second sum is 7, record the trial as a SUCCESS. \n",
    "5. If the second sum is not 7, record the trial as a FAILURE. \n",
    "\n",
    "**Question 2.1:** (10 pts) The function below simulates the trial many times to produce an estimate of the probablility of SUCCESS. \n",
    "\n",
    "Add a docstring and replace the blanks to complete the function.   "
   ]
  },
  {
   "cell_type": "code",
   "execution_count": 4,
   "metadata": {},
   "outputs": [],
   "source": [
    "def estimate(trials):\n",
    "\n",
    "    sevens = 0\n",
    "    faces  = np.arange(1, 7)\n",
    " \n",
    "    for i in np.arange(trials):\n",
    "        first  = np.random.choice(faces)\n",
    "        second = np.random.choice(faces)\n",
    "        \n",
    "        if(first + second != 7):\n",
    "            second = np.random.choice(faces)\n",
    "        \n",
    "        if(first + second == 7):\n",
    "            sevens += 1\n",
    "            \n",
    "    return sevens / trials"
   ]
  },
  {
   "cell_type": "markdown",
   "metadata": {},
   "source": [
    "Run **estimate()** with `trials = 1000`. "
   ]
  },
  {
   "cell_type": "code",
   "execution_count": 5,
   "metadata": {},
   "outputs": [
    {
     "data": {
      "text/plain": [
       "0.295"
      ]
     },
     "execution_count": 5,
     "metadata": {},
     "output_type": "execute_result"
    }
   ],
   "source": [
    "estimate(1000)"
   ]
  },
  {
   "cell_type": "markdown",
   "metadata": {},
   "source": [
    "**Question 2.2** (10 pts) Suppose a single experiment consists of estimating the probability of SUCCESS using 100 trials.  Use simulation to repeat this experiment 1000 times.  Record the estimated probability for each experiment and plot a histogram of your results."
   ]
  },
  {
   "cell_type": "code",
   "execution_count": 6,
   "metadata": {},
   "outputs": [
    {
     "ename": "NameError",
     "evalue": "name 'experiment_1000' is not defined",
     "output_type": "error",
     "traceback": [
      "\u001b[0;31m---------------------------------------------------------------------------\u001b[0m",
      "\u001b[0;31mNameError\u001b[0m                                 Traceback (most recent call last)",
      "\u001b[0;32m<ipython-input-6-1b9aeeb3fa97>\u001b[0m in \u001b[0;36m<module>\u001b[0;34m\u001b[0m\n\u001b[1;32m      4\u001b[0m     \u001b[0mexperiment\u001b[0m\u001b[0;34m.\u001b[0m\u001b[0mappend\u001b[0m\u001b[0;34m(\u001b[0m\u001b[0mestimate\u001b[0m\u001b[0;34m(\u001b[0m\u001b[0;36m100\u001b[0m\u001b[0;34m)\u001b[0m\u001b[0;34m)\u001b[0m\u001b[0;34m\u001b[0m\u001b[0;34m\u001b[0m\u001b[0m\n\u001b[1;32m      5\u001b[0m \u001b[0;34m\u001b[0m\u001b[0m\n\u001b[0;32m----> 6\u001b[0;31m \u001b[0mresult\u001b[0m \u001b[0;34m=\u001b[0m \u001b[0mTable\u001b[0m\u001b[0;34m(\u001b[0m\u001b[0;34m)\u001b[0m\u001b[0;34m.\u001b[0m\u001b[0mwith_column\u001b[0m\u001b[0;34m(\u001b[0m\u001b[0;34m'outcome'\u001b[0m\u001b[0;34m,\u001b[0m \u001b[0mexperiment_1000\u001b[0m\u001b[0;34m)\u001b[0m\u001b[0;34m\u001b[0m\u001b[0;34m\u001b[0m\u001b[0m\n\u001b[0m\u001b[1;32m      7\u001b[0m \u001b[0;34m\u001b[0m\u001b[0m\n\u001b[1;32m      8\u001b[0m \u001b[0mresult\u001b[0m\u001b[0;34m.\u001b[0m\u001b[0mhist\u001b[0m\u001b[0;34m(\u001b[0m\u001b[0;34m)\u001b[0m\u001b[0;34m\u001b[0m\u001b[0;34m\u001b[0m\u001b[0m\n",
      "\u001b[0;31mNameError\u001b[0m: name 'experiment_1000' is not defined"
     ]
    }
   ],
   "source": [
    "experiment = []\n",
    "\n",
    "for i in range(1000):\n",
    "    experiment.append(estimate(100))\n",
    "\n",
    "result = Table().with_column('outcome', experiment_1000)\n",
    "\n",
    "result.hist()"
   ]
  },
  {
   "cell_type": "markdown",
   "metadata": {},
   "source": [
    "## 3. Visualizing categorical data\n",
    "The graphic below appeared in the Berkeley campus newspaper.\n",
    "![BerkeleyCrime.png](BerkeleyCrime.png)\n",
    "\n",
    "**Question 3.1:** (4 pts)\n",
    "Suppose we want to **visually** compare the number of crimes by category in a single year.  The graphic designer made two choices which make this difficult.  What were those choices?  and why do they make the visual comparison difficult?"
   ]
  },
  {
   "cell_type": "markdown",
   "metadata": {},
   "source": [
    "***Write your answer here***\n",
    "\n",
    "1/ \"Robberies\" and \"Liquor Law Arrests\"\n",
    "2/ \"Hate crimes\" and \"sex crimes\"\n",
    "\n",
    "Because we do not see the diference of the number of crimes. "
   ]
  },
  {
   "cell_type": "markdown",
   "metadata": {},
   "source": [
    "**Question 3.2:** (6 pts) The data shown in the graphic are given below.\n",
    "\n",
    "|Year|Robberies|Liquor Law Arrests|Hate Crimes|Sex Crimes|\n",
    "|----|---------|------------------|-----------|----------|\n",
    "|2013|       16|                63|          9|        13|\n",
    "|2014|       23|                35|          9|        15|\n",
    "|2015|        9|                24|          2|        13|\n",
    "\n",
    "Create a table called **cases** that holds these data. \n",
    "\n",
    "Use that table to produce a graphic that corrects the problems you identified in the previous question.  "
   ]
  },
  {
   "cell_type": "code",
   "execution_count": 8,
   "metadata": {},
   "outputs": [
    {
     "data": {
      "image/png": "[encoded data removed]",
      "text/plain": [
       "<Figure size 432x288 with 1 Axes>"
      ]
     },
     "metadata": {},
     "output_type": "display_data"
    }
   ],
   "source": [
    "cases = Table().with_columns(['Year', [2013, 2014, 2015]\n",
    "                              , 'Robberies', [16, 23, 9]\n",
    "                              , 'Liquor Law Arrests', [63, 35, 24]\n",
    "                              , 'Hate Crimes', [9, 9, 2]\n",
    "                              , 'Sex Crimes', [13, 15, 13]\n",
    "])\n",
    "\n",
    "cases.barh('Year')"
   ]
  },
  {
   "cell_type": "markdown",
   "metadata": {},
   "source": [
    "## 4. Data, tables, histograms, line plots\n",
    "\n",
    "Consider the data files `child_mortality.csv` and `countries.csv`. \n",
    "\n",
    "`child_mortality.csv` contains three columns:  \n",
    "- **`geo`**: country code\n",
    "- **`time`**: year\n",
    "- **`child_mortality_0_5_year_olds_dying_per_1000_born`** : child mortality rate (i.e. number of deaths of children ages 0-5 per 1000 born)\n",
    "\n",
    "`countries.csv` has one row for each country.  There are many columns, and we will use these three:  \n",
    "- **`country`** : country code\n",
    "- **`name`**: name of the country\n",
    "- **`world_6region`**: world region in which the country is located (using a partition of the world into 6 regions)."
   ]
  },
  {
   "cell_type": "markdown",
   "metadata": {},
   "source": [
    " "
   ]
  },
  {
   "cell_type": "markdown",
   "metadata": {},
   "source": [
    "**Question 4.1** (10 pts)  Create two tables called `child_mortality` and `countries` by reading in the corresponding .csv files."
   ]
  },
  {
   "cell_type": "code",
   "execution_count": 10,
   "metadata": {},
   "outputs": [
    {
     "data": {
      "text/html": [
       "<table border=\"1\" class=\"dataframe\">\n",
       "    <thead>\n",
       "        <tr>\n",
       "            <th>country</th> <th>gwid</th> <th>name</th> <th>world_6region</th> <th>income_groups</th> <th>landlocked</th> <th>g77_and_oecd_countries</th> <th>main_religion_2008</th> <th>gapminder_list</th> <th>alternative_1</th> <th>alternative_2</th> <th>alternative_3</th> <th>alternative_4_cdiac</th> <th>pandg</th> <th>god_id</th> <th>alt_5</th> <th>upper_case_name</th> <th>code</th> <th>number</th> <th>arb1</th> <th>arb2</th> <th>arb3</th> <th>arb4</th> <th>arb5</th> <th>arb6</th> <th>is--country</th> <th>world_4region</th> <th>latitude</th> <th>longitude</th>\n",
       "        </tr>\n",
       "    </thead>\n",
       "    <tbody>\n",
       "        <tr>\n",
       "            <td>abkh     </td> <td>i0  </td> <td>Abkhazia             </td> <td>europe_central_asia     </td> <td>nan                </td> <td>nan       </td> <td>others                </td> <td>nan               </td> <td>Abkhazia             </td> <td>nan                            </td> <td>nan          </td> <td>nan          </td> <td>nan                </td> <td>nan        </td> <td>GE-AB            </td> <td>nan  </td> <td>nan            </td> <td>nan </td> <td>nan   </td> <td>nan </td> <td>nan </td> <td>nan </td> <td>nan </td> <td>nan </td> <td>nan </td> <td>True       </td> <td>europe       </td> <td>nan     </td> <td>nan      </td>\n",
       "        </tr>\n",
       "        <tr>\n",
       "            <td>afg      </td> <td>i1  </td> <td>Afghanistan          </td> <td>south_asia              </td> <td>low_income         </td> <td>landlocked</td> <td>g77                   </td> <td>muslim            </td> <td>Afghanistan          </td> <td>Islamic Republic of Afghanistan</td> <td>nan          </td> <td>nan          </td> <td>Afghanistan        </td> <td>AFGHANISTAN</td> <td>AF               </td> <td>nan  </td> <td>AFGHANISTAN    </td> <td>AFG </td> <td>4     </td> <td>nan </td> <td>nan </td> <td>nan </td> <td>nan </td> <td>nan </td> <td>nan </td> <td>True       </td> <td>asia         </td> <td>33      </td> <td>66       </td>\n",
       "        </tr>\n",
       "        <tr>\n",
       "            <td>akr_a_dhe</td> <td>i2  </td> <td>Akrotiri and Dhekelia</td> <td>europe_central_asia     </td> <td>nan                </td> <td>coastline </td> <td>others                </td> <td>nan               </td> <td>Akrotiri and Dhekelia</td> <td>nan                            </td> <td>nan          </td> <td>nan          </td> <td>nan                </td> <td>nan        </td> <td>Akrotiri_Dhekelia</td> <td>nan  </td> <td>nan            </td> <td>nan </td> <td>nan   </td> <td>nan </td> <td>nan </td> <td>nan </td> <td>nan </td> <td>nan </td> <td>nan </td> <td>True       </td> <td>europe       </td> <td>nan     </td> <td>nan      </td>\n",
       "        </tr>\n",
       "        <tr>\n",
       "            <td>alb      </td> <td>i3  </td> <td>Albania              </td> <td>europe_central_asia     </td> <td>upper_middle_income</td> <td>coastline </td> <td>others                </td> <td>muslim            </td> <td>Albania              </td> <td>nan                            </td> <td>nan          </td> <td>nan          </td> <td>Albania            </td> <td>ALBANIA    </td> <td>AL               </td> <td>nan  </td> <td>ALBANIA        </td> <td>ALB </td> <td>8     </td> <td>nan </td> <td>nan </td> <td>nan </td> <td>nan </td> <td>nan </td> <td>nan </td> <td>True       </td> <td>europe       </td> <td>41      </td> <td>20       </td>\n",
       "        </tr>\n",
       "        <tr>\n",
       "            <td>dza      </td> <td>i4  </td> <td>Algeria              </td> <td>middle_east_north_africa</td> <td>upper_middle_income</td> <td>coastline </td> <td>g77                   </td> <td>muslim            </td> <td>Algeria              </td> <td>nan                            </td> <td>nan          </td> <td>nan          </td> <td>Algeria            </td> <td>ALGERIA    </td> <td>DZ               </td> <td>nan  </td> <td>ALGERIA        </td> <td>DZA </td> <td>12    </td> <td>nan </td> <td>nan </td> <td>nan </td> <td>nan </td> <td>nan </td> <td>nan </td> <td>True       </td> <td>africa       </td> <td>28      </td> <td>3        </td>\n",
       "        </tr>\n",
       "        <tr>\n",
       "            <td>asm      </td> <td>i5  </td> <td>American Samoa       </td> <td>east_asia_pacific       </td> <td>upper_middle_income</td> <td>coastline </td> <td>others                </td> <td>christian         </td> <td>American Samoa       </td> <td>nan                            </td> <td>nan          </td> <td>nan          </td> <td>nan                </td> <td>nan        </td> <td>AS               </td> <td>nan  </td> <td>AMERICAN SAMOA </td> <td>ASM </td> <td>16    </td> <td>nan </td> <td>nan </td> <td>nan </td> <td>nan </td> <td>nan </td> <td>nan </td> <td>True       </td> <td>asia         </td> <td>-11.056 </td> <td>-171.082 </td>\n",
       "        </tr>\n",
       "        <tr>\n",
       "            <td>and      </td> <td>i6  </td> <td>Andorra              </td> <td>europe_central_asia     </td> <td>high_income        </td> <td>landlocked</td> <td>others                </td> <td>christian         </td> <td>Andorra              </td> <td>nan                            </td> <td>nan          </td> <td>nan          </td> <td>nan                </td> <td>nan        </td> <td>AD               </td> <td>nan  </td> <td>ANDORRA        </td> <td>AND </td> <td>20    </td> <td>nan </td> <td>nan </td> <td>nan </td> <td>nan </td> <td>nan </td> <td>nan </td> <td>True       </td> <td>europe       </td> <td>42.5078 </td> <td>1.52109  </td>\n",
       "        </tr>\n",
       "        <tr>\n",
       "            <td>ago      </td> <td>i7  </td> <td>Angola               </td> <td>sub_saharan_africa      </td> <td>upper_middle_income</td> <td>coastline </td> <td>g77                   </td> <td>christian         </td> <td>Angola               </td> <td>nan                            </td> <td>nan          </td> <td>nan          </td> <td>Angola             </td> <td>ANGOLA     </td> <td>AO               </td> <td>nan  </td> <td>ANGOLA         </td> <td>AGO </td> <td>24    </td> <td>nan </td> <td>nan </td> <td>nan </td> <td>nan </td> <td>nan </td> <td>nan </td> <td>True       </td> <td>africa       </td> <td>-12.5   </td> <td>18.5     </td>\n",
       "        </tr>\n",
       "        <tr>\n",
       "            <td>aia      </td> <td>i8  </td> <td>Anguilla             </td> <td>america                 </td> <td>nan                </td> <td>coastline </td> <td>others                </td> <td>christian         </td> <td>Anguilla             </td> <td>nan                            </td> <td>nan          </td> <td>nan          </td> <td>nan                </td> <td>nan        </td> <td>AI               </td> <td>nan  </td> <td>ANGUILLA       </td> <td>AIA </td> <td>660   </td> <td>nan </td> <td>nan </td> <td>nan </td> <td>nan </td> <td>nan </td> <td>nan </td> <td>True       </td> <td>americas     </td> <td>18.2167 </td> <td>-63.05   </td>\n",
       "        </tr>\n",
       "        <tr>\n",
       "            <td>ata      </td> <td>nan </td> <td>Antarctica           </td> <td>nan                     </td> <td>nan                </td> <td>nan       </td> <td>nan                   </td> <td>nan               </td> <td>nan                  </td> <td>nan                            </td> <td>nan          </td> <td>nan          </td> <td>nan                </td> <td>nan        </td> <td>AQ               </td> <td>nan  </td> <td>nan            </td> <td>nan </td> <td>nan   </td> <td>nan </td> <td>nan </td> <td>nan </td> <td>nan </td> <td>nan </td> <td>nan </td> <td>True       </td> <td>europe       </td> <td>-90     </td> <td>0        </td>\n",
       "        </tr>\n",
       "    </tbody>\n",
       "</table>\n",
       "<p>... (265 rows omitted)</p>"
      ],
      "text/plain": [
       "country   | gwid | name                  | world_6region            | income_groups       | landlocked | g77_and_oecd_countries | main_religion_2008 | gapminder_list        | alternative_1                   | alternative_2 | alternative_3 | alternative_4_cdiac | pandg       | god_id            | alt_5 | upper_case_name | code | number | arb1 | arb2 | arb3 | arb4 | arb5 | arb6 | is--country | world_4region | latitude | longitude\n",
       "abkh      | i0   | Abkhazia              | europe_central_asia      | nan                 | nan        | others                 | nan                | Abkhazia              | nan                             | nan           | nan           | nan                 | nan         | GE-AB             | nan   | nan             | nan  | nan    | nan  | nan  | nan  | nan  | nan  | nan  | True        | europe        | nan      | nan\n",
       "afg       | i1   | Afghanistan           | south_asia               | low_income          | landlocked | g77                    | muslim             | Afghanistan           | Islamic Republic of Afghanistan | nan           | nan           | Afghanistan         | AFGHANISTAN | AF                | nan   | AFGHANISTAN     | AFG  | 4      | nan  | nan  | nan  | nan  | nan  | nan  | True        | asia          | 33       | 66\n",
       "akr_a_dhe | i2   | Akrotiri and Dhekelia | europe_central_asia      | nan                 | coastline  | others                 | nan                | Akrotiri and Dhekelia | nan                             | nan           | nan           | nan                 | nan         | Akrotiri_Dhekelia | nan   | nan             | nan  | nan    | nan  | nan  | nan  | nan  | nan  | nan  | True        | europe        | nan      | nan\n",
       "alb       | i3   | Albania               | europe_central_asia      | upper_middle_income | coastline  | others                 | muslim             | Albania               | nan                             | nan           | nan           | Albania             | ALBANIA     | AL                | nan   | ALBANIA         | ALB  | 8      | nan  | nan  | nan  | nan  | nan  | nan  | True        | europe        | 41       | 20\n",
       "dza       | i4   | Algeria               | middle_east_north_africa | upper_middle_income | coastline  | g77                    | muslim             | Algeria               | nan                             | nan           | nan           | Algeria             | ALGERIA     | DZ                | nan   | ALGERIA         | DZA  | 12     | nan  | nan  | nan  | nan  | nan  | nan  | True        | africa        | 28       | 3\n",
       "asm       | i5   | American Samoa        | east_asia_pacific        | upper_middle_income | coastline  | others                 | christian          | American Samoa        | nan                             | nan           | nan           | nan                 | nan         | AS                | nan   | AMERICAN SAMOA  | ASM  | 16     | nan  | nan  | nan  | nan  | nan  | nan  | True        | asia          | -11.056  | -171.082\n",
       "and       | i6   | Andorra               | europe_central_asia      | high_income         | landlocked | others                 | christian          | Andorra               | nan                             | nan           | nan           | nan                 | nan         | AD                | nan   | ANDORRA         | AND  | 20     | nan  | nan  | nan  | nan  | nan  | nan  | True        | europe        | 42.5078  | 1.52109\n",
       "ago       | i7   | Angola                | sub_saharan_africa       | upper_middle_income | coastline  | g77                    | christian          | Angola                | nan                             | nan           | nan           | Angola              | ANGOLA      | AO                | nan   | ANGOLA          | AGO  | 24     | nan  | nan  | nan  | nan  | nan  | nan  | True        | africa        | -12.5    | 18.5\n",
       "aia       | i8   | Anguilla              | america                  | nan                 | coastline  | others                 | christian          | Anguilla              | nan                             | nan           | nan           | nan                 | nan         | AI                | nan   | ANGUILLA        | AIA  | 660    | nan  | nan  | nan  | nan  | nan  | nan  | True        | americas      | 18.2167  | -63.05\n",
       "ata       | nan  | Antarctica            | nan                      | nan                 | nan        | nan                    | nan                | nan                   | nan                             | nan           | nan           | nan                 | nan         | AQ                | nan   | nan             | nan  | nan    | nan  | nan  | nan  | nan  | nan  | nan  | True        | europe        | -90      | 0\n",
       "... (265 rows omitted)"
      ]
     },
     "execution_count": 10,
     "metadata": {},
     "output_type": "execute_result"
    }
   ],
   "source": [
    "countries = Table.read_table(\"countries.csv\")\n",
    "countries"
   ]
  },
  {
   "cell_type": "code",
   "execution_count": 11,
   "metadata": {},
   "outputs": [
    {
     "data": {
      "text/html": [
       "<table border=\"1\" class=\"dataframe\">\n",
       "    <thead>\n",
       "        <tr>\n",
       "            <th>geo</th> <th>time</th> <th>child_mortality_0_5_year_olds_dying_per_1000_born</th>\n",
       "        </tr>\n",
       "    </thead>\n",
       "    <tbody>\n",
       "        <tr>\n",
       "            <td>afg </td> <td>1800</td> <td>468.6                                            </td>\n",
       "        </tr>\n",
       "        <tr>\n",
       "            <td>afg </td> <td>1801</td> <td>468.6                                            </td>\n",
       "        </tr>\n",
       "        <tr>\n",
       "            <td>afg </td> <td>1802</td> <td>468.6                                            </td>\n",
       "        </tr>\n",
       "        <tr>\n",
       "            <td>afg </td> <td>1803</td> <td>468.6                                            </td>\n",
       "        </tr>\n",
       "        <tr>\n",
       "            <td>afg </td> <td>1804</td> <td>468.6                                            </td>\n",
       "        </tr>\n",
       "        <tr>\n",
       "            <td>afg </td> <td>1805</td> <td>468.6                                            </td>\n",
       "        </tr>\n",
       "        <tr>\n",
       "            <td>afg </td> <td>1806</td> <td>470                                              </td>\n",
       "        </tr>\n",
       "        <tr>\n",
       "            <td>afg </td> <td>1807</td> <td>470                                              </td>\n",
       "        </tr>\n",
       "        <tr>\n",
       "            <td>afg </td> <td>1808</td> <td>470                                              </td>\n",
       "        </tr>\n",
       "        <tr>\n",
       "            <td>afg </td> <td>1809</td> <td>470                                              </td>\n",
       "        </tr>\n",
       "    </tbody>\n",
       "</table>\n",
       "<p>... (40746 rows omitted)</p>"
      ],
      "text/plain": [
       "geo  | time | child_mortality_0_5_year_olds_dying_per_1000_born\n",
       "afg  | 1800 | 468.6\n",
       "afg  | 1801 | 468.6\n",
       "afg  | 1802 | 468.6\n",
       "afg  | 1803 | 468.6\n",
       "afg  | 1804 | 468.6\n",
       "afg  | 1805 | 468.6\n",
       "afg  | 1806 | 470\n",
       "afg  | 1807 | 470\n",
       "afg  | 1808 | 470\n",
       "afg  | 1809 | 470\n",
       "... (40746 rows omitted)"
      ]
     },
     "execution_count": 11,
     "metadata": {},
     "output_type": "execute_result"
    }
   ],
   "source": [
    "child_mortality = Table.read_table(\"child_mortality.csv\")\n",
    "child_mortality"
   ]
  },
  {
   "cell_type": "markdown",
   "metadata": {},
   "source": [
    "**Question 4.2** (10 pts)  Build a table called `child_mortality_by_year` that shows the mean child mortality rate for each year.  Use this table to identify the average child mortality rates in the years 1800, 1900, and 2000."
   ]
  },
  {
   "cell_type": "code",
   "execution_count": 12,
   "metadata": {},
   "outputs": [
    {
     "data": {
      "text/html": [
       "<table border=\"1\" class=\"dataframe\">\n",
       "    <thead>\n",
       "        <tr>\n",
       "            <th>time</th> <th>child_mortality_0_5_year_olds_dying_per_1000_born</th>\n",
       "        </tr>\n",
       "    </thead>\n",
       "    <tbody>\n",
       "        <tr>\n",
       "            <td>1800</td> <td>468.6                                            </td>\n",
       "        </tr>\n",
       "        <tr>\n",
       "            <td>1801</td> <td>468.6                                            </td>\n",
       "        </tr>\n",
       "        <tr>\n",
       "            <td>1802</td> <td>468.6                                            </td>\n",
       "        </tr>\n",
       "        <tr>\n",
       "            <td>1803</td> <td>468.6                                            </td>\n",
       "        </tr>\n",
       "        <tr>\n",
       "            <td>1804</td> <td>468.6                                            </td>\n",
       "        </tr>\n",
       "        <tr>\n",
       "            <td>1805</td> <td>468.6                                            </td>\n",
       "        </tr>\n",
       "        <tr>\n",
       "            <td>1806</td> <td>470                                              </td>\n",
       "        </tr>\n",
       "        <tr>\n",
       "            <td>1807</td> <td>470                                              </td>\n",
       "        </tr>\n",
       "        <tr>\n",
       "            <td>1808</td> <td>470                                              </td>\n",
       "        </tr>\n",
       "        <tr>\n",
       "            <td>1809</td> <td>470                                              </td>\n",
       "        </tr>\n",
       "    </tbody>\n",
       "</table>\n",
       "<p>... (40746 rows omitted)</p>"
      ],
      "text/plain": [
       "time | child_mortality_0_5_year_olds_dying_per_1000_born\n",
       "1800 | 468.6\n",
       "1801 | 468.6\n",
       "1802 | 468.6\n",
       "1803 | 468.6\n",
       "1804 | 468.6\n",
       "1805 | 468.6\n",
       "1806 | 470\n",
       "1807 | 470\n",
       "1808 | 470\n",
       "1809 | 470\n",
       "... (40746 rows omitted)"
      ]
     },
     "execution_count": 12,
     "metadata": {},
     "output_type": "execute_result"
    }
   ],
   "source": [
    "child_mortality_by_year = child_mortality.select('time', \"child_mortality_0_5_year_olds_dying_per_1000_born\")\n",
    "\n",
    "child_mortality_by_year"
   ]
  },
  {
   "cell_type": "code",
   "execution_count": 13,
   "metadata": {},
   "outputs": [
    {
     "name": "stderr",
     "output_type": "stream",
     "text": [
      "/Users/anh/anaconda3/lib/python3.7/site-packages/datascience/tables.py:193: FutureWarning: Implicit column method lookup is deprecated.\n",
      "  warnings.warn(\"Implicit column method lookup is deprecated.\", FutureWarning)\n"
     ]
    },
    {
     "data": {
      "text/plain": [
       "(child_mortality_0_5_year_olds_dying_per_1000_born\n",
       " 406.739, child_mortality_0_5_year_olds_dying_per_1000_born\n",
       " 217.339, child_mortality_0_5_year_olds_dying_per_1000_born\n",
       " 41.066)"
      ]
     },
     "execution_count": 13,
     "metadata": {},
     "output_type": "execute_result"
    }
   ],
   "source": [
    "child_mortality_1800 = np.mean(child_mortality_by_year.where('time', are.between_or_equal_to(1800, 1899))\\\n",
    "                               .select('child_mortality_0_5_year_olds_dying_per_1000_born'))\n",
    "child_mortality_1900 = np.mean(child_mortality_by_year.where('time', are.between_or_equal_to(1900, 1999))\\\n",
    "                               .select('child_mortality_0_5_year_olds_dying_per_1000_born'))\n",
    "child_mortality_2000 = np.mean(child_mortality_by_year.where('time', are.above_or_equal_to(2000))\\\n",
    "                               .select('child_mortality_0_5_year_olds_dying_per_1000_born'))\n",
    "\n",
    "child_mortality_1800, child_mortality_1900, child_mortality_2000"
   ]
  },
  {
   "cell_type": "markdown",
   "metadata": {},
   "source": [
    "**Question 4.3** (15 pts) Build histograms of the child mortalilty rates for each of the years 1800, 1900, and 2000.  \n",
    "Use bins ranging from 0 to 550 with width = 25.  \n",
    "\n",
    "The first thing to ask yourself is which table to use.  Write your answer in the cell below."
   ]
  },
  {
   "cell_type": "markdown",
   "metadata": {},
   "source": [
    "***Write your answer here***\n",
    "..."
   ]
  },
  {
   "cell_type": "code",
   "execution_count": 14,
   "metadata": {},
   "outputs": [],
   "source": [
    "mybins = range(0, 550, 25)"
   ]
  },
  {
   "cell_type": "code",
   "execution_count": 15,
   "metadata": {},
   "outputs": [
    {
     "data": {
      "image/png": "[encoded data removed]",
      "text/plain": [
       "<Figure size 432x288 with 1 Axes>"
      ]
     },
     "metadata": {},
     "output_type": "display_data"
    }
   ],
   "source": [
    "# histogram: year=1800\n",
    "child_mortality_by_year.where('time', are.between_or_equal_to(1800, 1899))\\\n",
    "    .hist('child_mortality_0_5_year_olds_dying_per_1000_born', bins=mybins)"
   ]
  },
  {
   "cell_type": "code",
   "execution_count": 16,
   "metadata": {},
   "outputs": [
    {
     "data": {
      "image/png": "[encoded data removed]",
      "text/plain": [
       "<Figure size 432x288 with 1 Axes>"
      ]
     },
     "metadata": {},
     "output_type": "display_data"
    }
   ],
   "source": [
    "# histogram: year=1900\n",
    "child_mortality_by_year.where('time', are.between_or_equal_to(1900, 1999))\\\n",
    "    .hist('child_mortality_0_5_year_olds_dying_per_1000_born', bins=mybins)"
   ]
  },
  {
   "cell_type": "code",
   "execution_count": 17,
   "metadata": {},
   "outputs": [
    {
     "data": {
      "image/png": "[encoded data removed]",
      "text/plain": [
       "<Figure size 432x288 with 1 Axes>"
      ]
     },
     "metadata": {},
     "output_type": "display_data"
    }
   ],
   "source": [
    "# histogram: year=2000\n",
    "child_mortality_by_year.where('time', are.above_or_equal_to(2000))\\\n",
    "    .hist('child_mortality_0_5_year_olds_dying_per_1000_born', bins=mybins)"
   ]
  },
  {
   "cell_type": "markdown",
   "metadata": {},
   "source": [
    "What story do the histograms tell about global child mortality since 1800?  "
   ]
  },
  {
   "cell_type": "markdown",
   "metadata": {},
   "source": [
    "***Write your response here***\n",
    "\n",
    "..."
   ]
  },
  {
   "cell_type": "markdown",
   "metadata": {},
   "source": [
    "**Question 4.4** (10 pts) Use the `countries` and `child_mortality` tables to create a new table called `child_mortality2` that contains all of the information from the `child_mortality` table with an additional column specifying the region of the country."
   ]
  },
  {
   "cell_type": "code",
   "execution_count": 18,
   "metadata": {},
   "outputs": [
    {
     "data": {
      "text/html": [
       "<table border=\"1\" class=\"dataframe\">\n",
       "    <thead>\n",
       "        <tr>\n",
       "            <th>geo</th> <th>time</th> <th>child_mortality_0_5_year_olds_dying_per_1000_born</th> <th>gwid</th> <th>name</th> <th>world_6region</th> <th>income_groups</th> <th>landlocked</th> <th>g77_and_oecd_countries</th> <th>main_religion_2008</th> <th>gapminder_list</th> <th>alternative_1</th> <th>alternative_2</th> <th>alternative_3</th> <th>alternative_4_cdiac</th> <th>pandg</th> <th>god_id</th> <th>alt_5</th> <th>upper_case_name</th> <th>code</th> <th>number</th> <th>arb1</th> <th>arb2</th> <th>arb3</th> <th>arb4</th> <th>arb5</th> <th>arb6</th> <th>is--country</th> <th>world_4region</th> <th>latitude</th> <th>longitude</th>\n",
       "        </tr>\n",
       "    </thead>\n",
       "    <tbody>\n",
       "        <tr>\n",
       "            <td>abw </td> <td>1980</td> <td>26.34                                            </td> <td>i12 </td> <td>Aruba</td> <td>america      </td> <td>high_income  </td> <td>coastline </td> <td>others                </td> <td>christian         </td> <td>Aruba         </td> <td>nan          </td> <td>nan          </td> <td>nan          </td> <td>Aruba              </td> <td>nan  </td> <td>AW    </td> <td>nan  </td> <td>ARUBA          </td> <td>ABW </td> <td>533   </td> <td>nan </td> <td>nan </td> <td>nan </td> <td>nan </td> <td>nan </td> <td>nan </td> <td>True       </td> <td>americas     </td> <td>12.5    </td> <td>-69.9667 </td>\n",
       "        </tr>\n",
       "        <tr>\n",
       "            <td>abw </td> <td>1981</td> <td>25.4                                             </td> <td>i12 </td> <td>Aruba</td> <td>america      </td> <td>high_income  </td> <td>coastline </td> <td>others                </td> <td>christian         </td> <td>Aruba         </td> <td>nan          </td> <td>nan          </td> <td>nan          </td> <td>Aruba              </td> <td>nan  </td> <td>AW    </td> <td>nan  </td> <td>ARUBA          </td> <td>ABW </td> <td>533   </td> <td>nan </td> <td>nan </td> <td>nan </td> <td>nan </td> <td>nan </td> <td>nan </td> <td>True       </td> <td>americas     </td> <td>12.5    </td> <td>-69.9667 </td>\n",
       "        </tr>\n",
       "        <tr>\n",
       "            <td>abw </td> <td>1982</td> <td>24.6                                             </td> <td>i12 </td> <td>Aruba</td> <td>america      </td> <td>high_income  </td> <td>coastline </td> <td>others                </td> <td>christian         </td> <td>Aruba         </td> <td>nan          </td> <td>nan          </td> <td>nan          </td> <td>Aruba              </td> <td>nan  </td> <td>AW    </td> <td>nan  </td> <td>ARUBA          </td> <td>ABW </td> <td>533   </td> <td>nan </td> <td>nan </td> <td>nan </td> <td>nan </td> <td>nan </td> <td>nan </td> <td>True       </td> <td>americas     </td> <td>12.5    </td> <td>-69.9667 </td>\n",
       "        </tr>\n",
       "        <tr>\n",
       "            <td>abw </td> <td>1983</td> <td>23.96                                            </td> <td>i12 </td> <td>Aruba</td> <td>america      </td> <td>high_income  </td> <td>coastline </td> <td>others                </td> <td>christian         </td> <td>Aruba         </td> <td>nan          </td> <td>nan          </td> <td>nan          </td> <td>Aruba              </td> <td>nan  </td> <td>AW    </td> <td>nan  </td> <td>ARUBA          </td> <td>ABW </td> <td>533   </td> <td>nan </td> <td>nan </td> <td>nan </td> <td>nan </td> <td>nan </td> <td>nan </td> <td>True       </td> <td>americas     </td> <td>12.5    </td> <td>-69.9667 </td>\n",
       "        </tr>\n",
       "        <tr>\n",
       "            <td>abw </td> <td>1984</td> <td>23.48                                            </td> <td>i12 </td> <td>Aruba</td> <td>america      </td> <td>high_income  </td> <td>coastline </td> <td>others                </td> <td>christian         </td> <td>Aruba         </td> <td>nan          </td> <td>nan          </td> <td>nan          </td> <td>Aruba              </td> <td>nan  </td> <td>AW    </td> <td>nan  </td> <td>ARUBA          </td> <td>ABW </td> <td>533   </td> <td>nan </td> <td>nan </td> <td>nan </td> <td>nan </td> <td>nan </td> <td>nan </td> <td>True       </td> <td>americas     </td> <td>12.5    </td> <td>-69.9667 </td>\n",
       "        </tr>\n",
       "        <tr>\n",
       "            <td>abw </td> <td>1985</td> <td>23.14                                            </td> <td>i12 </td> <td>Aruba</td> <td>america      </td> <td>high_income  </td> <td>coastline </td> <td>others                </td> <td>christian         </td> <td>Aruba         </td> <td>nan          </td> <td>nan          </td> <td>nan          </td> <td>Aruba              </td> <td>nan  </td> <td>AW    </td> <td>nan  </td> <td>ARUBA          </td> <td>ABW </td> <td>533   </td> <td>nan </td> <td>nan </td> <td>nan </td> <td>nan </td> <td>nan </td> <td>nan </td> <td>True       </td> <td>americas     </td> <td>12.5    </td> <td>-69.9667 </td>\n",
       "        </tr>\n",
       "        <tr>\n",
       "            <td>abw </td> <td>1986</td> <td>22.91                                            </td> <td>i12 </td> <td>Aruba</td> <td>america      </td> <td>high_income  </td> <td>coastline </td> <td>others                </td> <td>christian         </td> <td>Aruba         </td> <td>nan          </td> <td>nan          </td> <td>nan          </td> <td>Aruba              </td> <td>nan  </td> <td>AW    </td> <td>nan  </td> <td>ARUBA          </td> <td>ABW </td> <td>533   </td> <td>nan </td> <td>nan </td> <td>nan </td> <td>nan </td> <td>nan </td> <td>nan </td> <td>True       </td> <td>americas     </td> <td>12.5    </td> <td>-69.9667 </td>\n",
       "        </tr>\n",
       "        <tr>\n",
       "            <td>abw </td> <td>1987</td> <td>22.76                                            </td> <td>i12 </td> <td>Aruba</td> <td>america      </td> <td>high_income  </td> <td>coastline </td> <td>others                </td> <td>christian         </td> <td>Aruba         </td> <td>nan          </td> <td>nan          </td> <td>nan          </td> <td>Aruba              </td> <td>nan  </td> <td>AW    </td> <td>nan  </td> <td>ARUBA          </td> <td>ABW </td> <td>533   </td> <td>nan </td> <td>nan </td> <td>nan </td> <td>nan </td> <td>nan </td> <td>nan </td> <td>True       </td> <td>americas     </td> <td>12.5    </td> <td>-69.9667 </td>\n",
       "        </tr>\n",
       "        <tr>\n",
       "            <td>abw </td> <td>1988</td> <td>22.62                                            </td> <td>i12 </td> <td>Aruba</td> <td>america      </td> <td>high_income  </td> <td>coastline </td> <td>others                </td> <td>christian         </td> <td>Aruba         </td> <td>nan          </td> <td>nan          </td> <td>nan          </td> <td>Aruba              </td> <td>nan  </td> <td>AW    </td> <td>nan  </td> <td>ARUBA          </td> <td>ABW </td> <td>533   </td> <td>nan </td> <td>nan </td> <td>nan </td> <td>nan </td> <td>nan </td> <td>nan </td> <td>True       </td> <td>americas     </td> <td>12.5    </td> <td>-69.9667 </td>\n",
       "        </tr>\n",
       "        <tr>\n",
       "            <td>abw </td> <td>1989</td> <td>22.5                                             </td> <td>i12 </td> <td>Aruba</td> <td>america      </td> <td>high_income  </td> <td>coastline </td> <td>others                </td> <td>christian         </td> <td>Aruba         </td> <td>nan          </td> <td>nan          </td> <td>nan          </td> <td>Aruba              </td> <td>nan  </td> <td>AW    </td> <td>nan  </td> <td>ARUBA          </td> <td>ABW </td> <td>533   </td> <td>nan </td> <td>nan </td> <td>nan </td> <td>nan </td> <td>nan </td> <td>nan </td> <td>True       </td> <td>americas     </td> <td>12.5    </td> <td>-69.9667 </td>\n",
       "        </tr>\n",
       "    </tbody>\n",
       "</table>\n",
       "<p>... (40746 rows omitted)</p>"
      ],
      "text/plain": [
       "geo  | time | child_mortality_0_5_year_olds_dying_per_1000_born | gwid | name  | world_6region | income_groups | landlocked | g77_and_oecd_countries | main_religion_2008 | gapminder_list | alternative_1 | alternative_2 | alternative_3 | alternative_4_cdiac | pandg | god_id | alt_5 | upper_case_name | code | number | arb1 | arb2 | arb3 | arb4 | arb5 | arb6 | is--country | world_4region | latitude | longitude\n",
       "abw  | 1980 | 26.34                                             | i12  | Aruba | america       | high_income   | coastline  | others                 | christian          | Aruba          | nan           | nan           | nan           | Aruba               | nan   | AW     | nan   | ARUBA           | ABW  | 533    | nan  | nan  | nan  | nan  | nan  | nan  | True        | americas      | 12.5     | -69.9667\n",
       "abw  | 1981 | 25.4                                              | i12  | Aruba | america       | high_income   | coastline  | others                 | christian          | Aruba          | nan           | nan           | nan           | Aruba               | nan   | AW     | nan   | ARUBA           | ABW  | 533    | nan  | nan  | nan  | nan  | nan  | nan  | True        | americas      | 12.5     | -69.9667\n",
       "abw  | 1982 | 24.6                                              | i12  | Aruba | america       | high_income   | coastline  | others                 | christian          | Aruba          | nan           | nan           | nan           | Aruba               | nan   | AW     | nan   | ARUBA           | ABW  | 533    | nan  | nan  | nan  | nan  | nan  | nan  | True        | americas      | 12.5     | -69.9667\n",
       "abw  | 1983 | 23.96                                             | i12  | Aruba | america       | high_income   | coastline  | others                 | christian          | Aruba          | nan           | nan           | nan           | Aruba               | nan   | AW     | nan   | ARUBA           | ABW  | 533    | nan  | nan  | nan  | nan  | nan  | nan  | True        | americas      | 12.5     | -69.9667\n",
       "abw  | 1984 | 23.48                                             | i12  | Aruba | america       | high_income   | coastline  | others                 | christian          | Aruba          | nan           | nan           | nan           | Aruba               | nan   | AW     | nan   | ARUBA           | ABW  | 533    | nan  | nan  | nan  | nan  | nan  | nan  | True        | americas      | 12.5     | -69.9667\n",
       "abw  | 1985 | 23.14                                             | i12  | Aruba | america       | high_income   | coastline  | others                 | christian          | Aruba          | nan           | nan           | nan           | Aruba               | nan   | AW     | nan   | ARUBA           | ABW  | 533    | nan  | nan  | nan  | nan  | nan  | nan  | True        | americas      | 12.5     | -69.9667\n",
       "abw  | 1986 | 22.91                                             | i12  | Aruba | america       | high_income   | coastline  | others                 | christian          | Aruba          | nan           | nan           | nan           | Aruba               | nan   | AW     | nan   | ARUBA           | ABW  | 533    | nan  | nan  | nan  | nan  | nan  | nan  | True        | americas      | 12.5     | -69.9667\n",
       "abw  | 1987 | 22.76                                             | i12  | Aruba | america       | high_income   | coastline  | others                 | christian          | Aruba          | nan           | nan           | nan           | Aruba               | nan   | AW     | nan   | ARUBA           | ABW  | 533    | nan  | nan  | nan  | nan  | nan  | nan  | True        | americas      | 12.5     | -69.9667\n",
       "abw  | 1988 | 22.62                                             | i12  | Aruba | america       | high_income   | coastline  | others                 | christian          | Aruba          | nan           | nan           | nan           | Aruba               | nan   | AW     | nan   | ARUBA           | ABW  | 533    | nan  | nan  | nan  | nan  | nan  | nan  | True        | americas      | 12.5     | -69.9667\n",
       "abw  | 1989 | 22.5                                              | i12  | Aruba | america       | high_income   | coastline  | others                 | christian          | Aruba          | nan           | nan           | nan           | Aruba               | nan   | AW     | nan   | ARUBA           | ABW  | 533    | nan  | nan  | nan  | nan  | nan  | nan  | True        | americas      | 12.5     | -69.9667\n",
       "... (40746 rows omitted)"
      ]
     },
     "execution_count": 18,
     "metadata": {},
     "output_type": "execute_result"
    }
   ],
   "source": [
    "child_mortality2 = child_mortality.join('geo', countries, 'country')\n",
    "child_mortality2"
   ]
  },
  {
   "cell_type": "markdown",
   "metadata": {},
   "source": [
    "**Question 4.5** (10 pts) Using the `child_mortality2` table, create a table called `child_mortality_by_region` that contains\n",
    "- one row for each year\n",
    "- one column for each region\n",
    "- the mean child mortality rates for each region in each year.\n",
    "\n",
    "*Hint 1: You may find the `pivot` method useful*\n",
    "\n",
    "*Hint 2: The function `np.mean` computes the mean of an array*"
   ]
  },
  {
   "cell_type": "code",
   "execution_count": 19,
   "metadata": {},
   "outputs": [
    {
     "data": {
      "text/html": [
       "<table border=\"1\" class=\"dataframe\">\n",
       "    <thead>\n",
       "        <tr>\n",
       "            <th>time</th> <th>america</th> <th>east_asia_pacific</th> <th>europe_central_asia</th> <th>middle_east_north_africa</th> <th>south_asia</th> <th>sub_saharan_africa</th>\n",
       "        </tr>\n",
       "    </thead>\n",
       "    <tbody>\n",
       "        <tr>\n",
       "            <td>1800</td> <td>432.858</td> <td>439.069          </td> <td>384.194            </td> <td>443.61                  </td> <td>465.8     </td> <td>440.271           </td>\n",
       "        </tr>\n",
       "        <tr>\n",
       "            <td>1801</td> <td>432.255</td> <td>438.6            </td> <td>382.451            </td> <td>443.61                  </td> <td>465.663   </td> <td>440.15            </td>\n",
       "        </tr>\n",
       "        <tr>\n",
       "            <td>1802</td> <td>431.615</td> <td>438.115          </td> <td>380.8              </td> <td>443.61                  </td> <td>465.525   </td> <td>440.027           </td>\n",
       "        </tr>\n",
       "        <tr>\n",
       "            <td>1803</td> <td>431.015</td> <td>437.65           </td> <td>379.994            </td> <td>443.61                  </td> <td>465.387   </td> <td>439.906           </td>\n",
       "        </tr>\n",
       "        <tr>\n",
       "            <td>1804</td> <td>430.424</td> <td>437.177          </td> <td>379.29             </td> <td>443.61                  </td> <td>465.25    </td> <td>439.788           </td>\n",
       "        </tr>\n",
       "        <tr>\n",
       "            <td>1805</td> <td>429.806</td> <td>436.704          </td> <td>378.512            </td> <td>443.6                   </td> <td>465.112   </td> <td>439.64            </td>\n",
       "        </tr>\n",
       "        <tr>\n",
       "            <td>1806</td> <td>429.212</td> <td>436.246          </td> <td>379.139            </td> <td>443.6                   </td> <td>465.163   </td> <td>439.521           </td>\n",
       "        </tr>\n",
       "        <tr>\n",
       "            <td>1807</td> <td>428.6  </td> <td>435.781          </td> <td>377.733            </td> <td>443.6                   </td> <td>465.038   </td> <td>439.404           </td>\n",
       "        </tr>\n",
       "        <tr>\n",
       "            <td>1808</td> <td>428.027</td> <td>435.327          </td> <td>378.369            </td> <td>443.6                   </td> <td>464.887   </td> <td>439.29            </td>\n",
       "        </tr>\n",
       "        <tr>\n",
       "            <td>1809</td> <td>427.421</td> <td>434.869          </td> <td>377.788            </td> <td>443.6                   </td> <td>464.762   </td> <td>439.173           </td>\n",
       "        </tr>\n",
       "    </tbody>\n",
       "</table>\n",
       "<p>... (206 rows omitted)</p>"
      ],
      "text/plain": [
       "time | america | east_asia_pacific | europe_central_asia | middle_east_north_africa | south_asia | sub_saharan_africa\n",
       "1800 | 432.858 | 439.069           | 384.194             | 443.61                   | 465.8      | 440.271\n",
       "1801 | 432.255 | 438.6             | 382.451             | 443.61                   | 465.663    | 440.15\n",
       "1802 | 431.615 | 438.115           | 380.8               | 443.61                   | 465.525    | 440.027\n",
       "1803 | 431.015 | 437.65            | 379.994             | 443.61                   | 465.387    | 439.906\n",
       "1804 | 430.424 | 437.177           | 379.29              | 443.61                   | 465.25     | 439.788\n",
       "1805 | 429.806 | 436.704           | 378.512             | 443.6                    | 465.112    | 439.64\n",
       "1806 | 429.212 | 436.246           | 379.139             | 443.6                    | 465.163    | 439.521\n",
       "1807 | 428.6   | 435.781           | 377.733             | 443.6                    | 465.038    | 439.404\n",
       "1808 | 428.027 | 435.327           | 378.369             | 443.6                    | 464.887    | 439.29\n",
       "1809 | 427.421 | 434.869           | 377.788             | 443.6                    | 464.762    | 439.173\n",
       "... (206 rows omitted)"
      ]
     },
     "execution_count": 19,
     "metadata": {},
     "output_type": "execute_result"
    }
   ],
   "source": [
    "child_mortality_by_region = child_mortality2.pivot('world_6region', 'time', \\\n",
    "                values='child_mortality_0_5_year_olds_dying_per_1000_born', collect=np.mean)\n",
    "\n",
    "child_mortality_by_region"
   ]
  },
  {
   "cell_type": "markdown",
   "metadata": {},
   "source": [
    "**Question 4.6** (5 pts) Use the table `child_mortality_by_region` to plot line graphs of child mortality rates vs. time for each region on one set of axes."
   ]
  },
  {
   "cell_type": "code",
   "execution_count": null,
   "metadata": {},
   "outputs": [],
   "source": [
    "...\n",
    "..."
   ]
  }
 ],
 "metadata": {
  "kernelspec": {
   "display_name": "Python 3",
   "language": "python",
   "name": "python3"
  },
  "language_info": {
   "codemirror_mode": {
    "name": "ipython",
    "version": 3
   },
   "file_extension": ".py",
   "mimetype": "text/x-python",
   "name": "python",
   "nbconvert_exporter": "python",
   "pygments_lexer": "ipython3",
   "version": "3.7.3"
  }
 },
 "nbformat": 4,
 "nbformat_minor": 2
}
