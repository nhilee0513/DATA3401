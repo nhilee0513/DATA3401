{
 "cells": [
  {
   "cell_type": "markdown",
   "metadata": {},
   "source": [
    "## Homework 5 _Nhi Le\n",
    "\n",
    "### part1  data\n",
    "\n",
    "\n",
    "Produce a dataset for this linear model:  $$ \\mathbf{y}  =  \\beta_0 + \\beta_1 \\mathbf x + \\mathbf \\epsilon $$, where $\\mathbf{y, x, \\epsilon}$ are each 15x1 vectors.  \n",
    "\n",
    "- Choose the values in $x$ from a real dataset.  You don't have to use the whole dataset.  Select any 15 unique values that are spread out approximately evenly.  Don't make it hard.  (Don't pick something like this: 1.2,1.5,1.3, -9999999.8383, ..., 1.2,1.2, 1.11, ...., 314159.26535.)  \n",
    "- Document the source of your data and what they represent (include the measurement units like days, cubic inches, dollars, etc.).  Also document any selection decisions made by you.  Don't make it hard.  \n",
    "- Select values for the intercept $\\beta_0$ and the slope $\\beta_1$.  Again, don't make it hard. Pick something and change it later if you want. \n",
    "- Use a random number generator like **scipy.stats.YYYY.rvs()** to get the values for $\\mathbf \\epsilon$.  Use any symmetric distribution with mean equal to  0 as **YYYY**.  That could be $unif(-a,a)$ or $(.5 - beta(a,a))$ or $N(0, \\sigma = a)$.  Whatever.  Choose parameter value $a$ to make the standard deviation of the $\\epsilon$'s small compared to the range of the $x$'s.  It's easier to adjust $a$ after you look at a scatterplot.  \n",
    "- Use the model formula to compute $\\mathbf y$. \n",
    "- Make an array object called **dat1** with columns $ \\mathbf x$ and $\\mathbf y$.  \n",
    "- Produce a scatter plot of $ \\mathbf x$ and $\\mathbf y$.  At this point you might want to change $a$ to adjust $\\sigma_\\epsilon$. We want the **dat1** scatterplot to be fairly tight, like a cigar, not like a football. \n",
    "\n",
    "Repeat the process to produce **dat2**.  Use the same values for $\\mathbf x, \\beta_0, \\beta_1$.  Use the same distribution family for $\\mathbf \\epsilon$, but adjust the parameters like $a$ to make $\\sigma_\\epsilon$ larger than for **dat1**.  Look at a scatter plot and adjust as required.  \n",
    "\n",
    "Repeat the process to produce **dat3**.  Use the same values for $\\mathbf x, \\beta_0, \\beta_1$.  Use the same distribution family for $\\mathbf \\epsilon$, but adjust the parameters to make $\\sigma_\\epsilon$ larger than for **dat2**.  Look at a scatter plot and adjust as required.  It's ok if this one looks like a football or an ellipse.  \n",
    "\n",
    "Write **dat1, dat2, dat3** to your machine. \n",
    "Name your files like this:  *dat1_JPK.csv,  dat2_JPK.csv,  dat3_JPK.csv* (use your initials). \n",
    "\n",
    "The last step is to drag your files from your machine to the shared directory **.../ourcars/ourdata/** on OneDrive.  \n",
    "The link to this shared folder is on Blackboard.  \n",
    "\n",
    " "
   ]
  },
  {
   "cell_type": "code",
   "execution_count": 1,
   "metadata": {},
   "outputs": [],
   "source": [
    "import random\n",
    "import matplotlib.pyplot as plt\n",
    "import pandas as pd\n",
    "from scipy.stats import norm"
   ]
  },
  {
   "cell_type": "code",
   "execution_count": 2,
   "metadata": {},
   "outputs": [
    {
     "data": {
      "text/html": [
       "<div>\n",
       "<style scoped>\n",
       "    .dataframe tbody tr th:only-of-type {\n",
       "        vertical-align: middle;\n",
       "    }\n",
       "\n",
       "    .dataframe tbody tr th {\n",
       "        vertical-align: top;\n",
       "    }\n",
       "\n",
       "    .dataframe thead th {\n",
       "        text-align: right;\n",
       "    }\n",
       "</style>\n",
       "<table border=\"1\" class=\"dataframe\">\n",
       "  <thead>\n",
       "    <tr style=\"text-align: right;\">\n",
       "      <th></th>\n",
       "      <th>x</th>\n",
       "      <th>y</th>\n",
       "    </tr>\n",
       "  </thead>\n",
       "  <tbody>\n",
       "    <tr>\n",
       "      <td>0</td>\n",
       "      <td>11</td>\n",
       "      <td>32.675475</td>\n",
       "    </tr>\n",
       "    <tr>\n",
       "      <td>1</td>\n",
       "      <td>47</td>\n",
       "      <td>102.613914</td>\n",
       "    </tr>\n",
       "    <tr>\n",
       "      <td>2</td>\n",
       "      <td>25</td>\n",
       "      <td>39.684716</td>\n",
       "    </tr>\n",
       "    <tr>\n",
       "      <td>3</td>\n",
       "      <td>44</td>\n",
       "      <td>99.765013</td>\n",
       "    </tr>\n",
       "    <tr>\n",
       "      <td>4</td>\n",
       "      <td>9</td>\n",
       "      <td>12.417329</td>\n",
       "    </tr>\n",
       "    <tr>\n",
       "      <td>5</td>\n",
       "      <td>29</td>\n",
       "      <td>55.899218</td>\n",
       "    </tr>\n",
       "    <tr>\n",
       "      <td>6</td>\n",
       "      <td>27</td>\n",
       "      <td>62.188906</td>\n",
       "    </tr>\n",
       "    <tr>\n",
       "      <td>7</td>\n",
       "      <td>24</td>\n",
       "      <td>29.171976</td>\n",
       "    </tr>\n",
       "    <tr>\n",
       "      <td>8</td>\n",
       "      <td>42</td>\n",
       "      <td>97.616089</td>\n",
       "    </tr>\n",
       "    <tr>\n",
       "      <td>9</td>\n",
       "      <td>11</td>\n",
       "      <td>7.970826</td>\n",
       "    </tr>\n",
       "    <tr>\n",
       "      <td>10</td>\n",
       "      <td>2</td>\n",
       "      <td>-6.245092</td>\n",
       "    </tr>\n",
       "    <tr>\n",
       "      <td>11</td>\n",
       "      <td>20</td>\n",
       "      <td>40.222308</td>\n",
       "    </tr>\n",
       "    <tr>\n",
       "      <td>12</td>\n",
       "      <td>19</td>\n",
       "      <td>33.144725</td>\n",
       "    </tr>\n",
       "    <tr>\n",
       "      <td>13</td>\n",
       "      <td>47</td>\n",
       "      <td>75.851048</td>\n",
       "    </tr>\n",
       "    <tr>\n",
       "      <td>14</td>\n",
       "      <td>50</td>\n",
       "      <td>89.349971</td>\n",
       "    </tr>\n",
       "  </tbody>\n",
       "</table>\n",
       "</div>"
      ],
      "text/plain": [
       "     x           y\n",
       "0   11   32.675475\n",
       "1   47  102.613914\n",
       "2   25   39.684716\n",
       "3   44   99.765013\n",
       "4    9   12.417329\n",
       "5   29   55.899218\n",
       "6   27   62.188906\n",
       "7   24   29.171976\n",
       "8   42   97.616089\n",
       "9   11    7.970826\n",
       "10   2   -6.245092\n",
       "11  20   40.222308\n",
       "12  19   33.144725\n",
       "13  47   75.851048\n",
       "14  50   89.349971"
      ]
     },
     "execution_count": 2,
     "metadata": {},
     "output_type": "execute_result"
    }
   ],
   "source": [
    "x=[]\n",
    "y1=[]\n",
    "b0=3\n",
    "b1=2\n",
    "for i in range(0,15):\n",
    "    x= pd.read_csv(\"~/Desktop/DATA3401/Week 5/file1.dms\")\n",
    "    e=norm.rvs(0,10)\n",
    "    y1.append(b0+x[i]*b1+e)\n",
    "\n",
    "\n",
    "dat1={'x':x,\n",
    "      'y':y1}\n",
    "df1 = pd.DataFrame(dat1)\n",
    "df1"
   ]
  },
  {
   "cell_type": "code",
   "execution_count": null,
   "metadata": {},
   "outputs": [],
   "source": [
    "plt.scatter(x,y1)"
   ]
  },
  {
   "cell_type": "code",
   "execution_count": null,
   "metadata": {},
   "outputs": [],
   "source": [
    "y2=[]\n",
    "\n",
    "for i in range(0,15):\n",
    "    e=norm.rvs(0,20)\n",
    "    y2.append(b0+x[i]*b1+e)\n",
    "\n",
    "dat2={'x':x,\n",
    "      'y':y2}\n",
    "df2= pd.DataFrame(dat2)\n",
    "df2"
   ]
  },
  {
   "cell_type": "code",
   "execution_count": null,
   "metadata": {},
   "outputs": [],
   "source": [
    "plt.scatter(x,y2)"
   ]
  },
  {
   "cell_type": "code",
   "execution_count": null,
   "metadata": {},
   "outputs": [],
   "source": [
    "y3=[]\n",
    "for i in range(0,15):\n",
    "    e=norm.rvs(0,30)\n",
    "    y3.append(b0+x[i]*b1+e)\n",
    "\n",
    "\n",
    "dat3={'x':x,\n",
    "      'y':y3}\n",
    "df3= pd.DataFrame(dat3)\n",
    "df3"
   ]
  },
  {
   "cell_type": "code",
   "execution_count": null,
   "metadata": {},
   "outputs": [],
   "source": [
    "plt.scatter(x,y3)"
   ]
  },
  {
   "cell_type": "code",
   "execution_count": null,
   "metadata": {},
   "outputs": [],
   "source": [
    "df1.to_csv(\"dat1_NL.csv\",index=False)\n",
    "df2.to_csv(\"dat2_NL.csv\",index=False)\n",
    "df3.to_csv(\"dat3_NL.csv\",index=False)"
   ]
  },
  {
   "cell_type": "code",
   "execution_count": null,
   "metadata": {},
   "outputs": [],
   "source": []
  },
  {
   "cell_type": "code",
   "execution_count": null,
   "metadata": {},
   "outputs": [],
   "source": []
  },
  {
   "cell_type": "code",
   "execution_count": null,
   "metadata": {},
   "outputs": [],
   "source": []
  },
  {
   "cell_type": "code",
   "execution_count": null,
   "metadata": {},
   "outputs": [],
   "source": []
  }
 ],
 "metadata": {
  "kernelspec": {
   "display_name": "Python 3",
   "language": "python",
   "name": "python3"
  },
  "language_info": {
   "codemirror_mode": {
    "name": "ipython",
    "version": 3
   },
   "file_extension": ".py",
   "mimetype": "text/x-python",
   "name": "python",
   "nbconvert_exporter": "python",
   "pygments_lexer": "ipython3",
   "version": "3.7.4"
  }
 },
 "nbformat": 4,
 "nbformat_minor": 2
}
