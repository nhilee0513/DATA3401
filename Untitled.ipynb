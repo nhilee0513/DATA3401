{
 "cells": [
  {
   "cell_type": "code",
   "execution_count": 1,
   "metadata": {},
   "outputs": [
    {
     "name": "stdout",
     "output_type": "stream",
     "text": [
      "[[-3  6 -1  1 -7]\n",
      " [ 1 -2  2  3 -1]\n",
      " [ 2 -4  5  8 -4]]\n",
      "[[1. 0. 0.]\n",
      " [0. 0. 1.]\n",
      " [0. 1. 0.]]\n",
      "[[ 1.          0.          0.        ]\n",
      " [-0.66666667  1.          0.        ]\n",
      " [-0.33333333  0.5         1.        ]]\n",
      "[[-3.00000000e+00  6.00000000e+00 -1.00000000e+00  1.00000000e+00\n",
      "  -7.00000000e+00]\n",
      " [ 0.00000000e+00 -2.22044605e-16  4.33333333e+00  8.66666667e+00\n",
      "  -8.66666667e+00]\n",
      " [ 0.00000000e+00  0.00000000e+00 -5.00000000e-01 -1.00000000e+00\n",
      "   1.00000000e+00]]\n"
     ]
    }
   ],
   "source": [
    "# PLU-Exmp\n",
    "# LU decomposition\n",
    "from numpy import array\n",
    "from scipy.linalg import lu\n",
    "# define a square matrix\n",
    "A = array([\n",
    "  [-3, 6, -1, 1, -7],\n",
    "  [1, -2, 2, 3, -1],\n",
    "  [2, -4, 5, 8, -4]])\n",
    "print(A)\n",
    "# factorize\n",
    "P, L, U = lu(A)\n",
    "print(P)\n",
    "print(L)\n",
    "print(U)\n",
    "# reconstruct\n",
    "#B = P.dot(L).dot(U)\n",
    "#print(B)"
   ]
  },
  {
   "cell_type": "code",
   "execution_count": null,
   "metadata": {},
   "outputs": [],
   "source": []
  }
 ],
 "metadata": {
  "kernelspec": {
   "display_name": "Python 3",
   "language": "python",
   "name": "python3"
  },
  "language_info": {
   "codemirror_mode": {
    "name": "ipython",
    "version": 3
   },
   "file_extension": ".py",
   "mimetype": "text/x-python",
   "name": "python",
   "nbconvert_exporter": "python",
   "pygments_lexer": "ipython3",
   "version": "3.7.1"
  }
 },
 "nbformat": 4,
 "nbformat_minor": 2
}
