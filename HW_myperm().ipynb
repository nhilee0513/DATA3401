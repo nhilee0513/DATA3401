{
 "cells": [
  {
   "cell_type": "markdown",
   "metadata": {},
   "source": [
    "## Homework myperm()\n",
    "### Nhi Le"
   ]
  },
  {
   "cell_type": "markdown",
   "metadata": {},
   "source": [
    "Write a function myperm() which takes a single input k and returns a random permutation of the integers 1,2,..., k. It will be a small function which calls a built-in function.  In class we saw that the R function sample(k) does the same thing. "
   ]
  },
  {
   "cell_type": "code",
   "execution_count": 1,
   "metadata": {},
   "outputs": [],
   "source": [
    "import math \n",
    "\n",
    "def myperm(k):\n",
    "    for i in range(k):\n",
    "        print(math.factorial(k)/math.factorial(k-i))\n",
    "        "
   ]
  },
  {
   "cell_type": "code",
   "execution_count": 2,
   "metadata": {},
   "outputs": [
    {
     "name": "stdout",
     "output_type": "stream",
     "text": [
      "1.0\n",
      "4.0\n",
      "12.0\n",
      "24.0\n"
     ]
    }
   ],
   "source": [
    "myperm(4)"
   ]
  },
  {
   "cell_type": "code",
   "execution_count": 1,
   "metadata": {},
   "outputs": [
    {
     "name": "stdout",
     "output_type": "stream",
     "text": [
      "Enter k value : 12\n",
      "[ 2  9  3  5  4 11 10  8  1  0  6  7]\n"
     ]
    }
   ],
   "source": [
    "import numpy as np # create a function myperm() which takes a single input k\n",
    "def myperm(k): # built-in function returns random permutation of the integers 1,2,..., k\n",
    "    return np.random.permutation(k)\n",
    "\n",
    "# Create main function\n",
    "def main(): # Read k value from user\n",
    "    k = int(input(\"Enter k value : \")) # call myperm method and print the output\n",
    "    print(myperm(k))\n",
    "main() # Call main function"
   ]
  },
  {
   "cell_type": "code",
   "execution_count": null,
   "metadata": {},
   "outputs": [],
   "source": []
  }
 ],
 "metadata": {
  "kernelspec": {
   "display_name": "Python 3",
   "language": "python",
   "name": "python3"
  },
  "language_info": {
   "codemirror_mode": {
    "name": "ipython",
    "version": 3
   },
   "file_extension": ".py",
   "mimetype": "text/x-python",
   "name": "python",
   "nbconvert_exporter": "python",
   "pygments_lexer": "ipython3",
   "version": "3.7.4"
  }
 },
 "nbformat": 4,
 "nbformat_minor": 2
}
