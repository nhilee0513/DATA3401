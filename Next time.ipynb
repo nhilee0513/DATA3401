{
 "cells": [
  {
   "cell_type": "markdown",
   "metadata": {},
   "source": [
    "# Next Time - 04/20/2020"
   ]
  },
  {
   "cell_type": "markdown",
   "metadata": {},
   "source": [
    "# Nhi Le"
   ]
  },
  {
   "cell_type": "markdown",
   "metadata": {},
   "source": [
    "I have taken several classes online before. I only took that for some subject that required a lot of reading like History, Government, and Philosophy. I don't want to come to class for those classes. I can read a quick summary and get the answer to those classes. \n",
    "\n",
    "I love to sit in the face to face classes for all my major classes and the classes required practice like data and statistics, math classes. I feel like this is not the best way to understanding information if I look on the screen moving for a few hours. \n",
    "\n",
    "I like Zybook to study online. The Zybook have an easy way to understanding some information and have some example on that. \n",
    "\n",
    "I think that will be similar to the in-class environment if you have a whiteboard to write in your room while we are doing the zoom meeting.  In another class, my professor was using the camera face to the table for writing on the paper like the one that we have in the classroom. I think that another good way to teaching online too. \n",
    "\n",
    "When we do the online class, the difficulty is many noising around when we work on that. Last week, my neighbor has their house's foundation fixing, then the construction working noise for the whole day. My friend told me that the kids were home is another main concern that they have to deal with. \n",
    "\n",
    "Lastly, I hope that we will have the campus open in the next semester. But if we must do the online classes, I hope that we still have Zybook to study, and the professor will have a whiteboard or camera to explain their lecture as we do in the face to face environment.\n"
   ]
  }
 ],
 "metadata": {
  "kernelspec": {
   "display_name": "Python 3",
   "language": "python",
   "name": "python3"
  }
 },
 "nbformat": 4,
 "nbformat_minor": 2
}
